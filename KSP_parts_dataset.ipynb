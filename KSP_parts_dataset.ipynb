{
 "cells": [
  {
   "cell_type": "code",
   "execution_count": 15,
   "metadata": {},
   "outputs": [
    {
     "name": "stdout",
     "output_type": "stream",
     "text": [
      "The autoreload extension is already loaded. To reload it, use:\n",
      "  %reload_ext autoreload\n"
     ]
    }
   ],
   "source": [
    "%load_ext autoreload\n",
    "%autoreload 2"
   ]
  },
  {
   "cell_type": "code",
   "execution_count": 335,
   "metadata": {},
   "outputs": [],
   "source": [
    "from pathlib import Path\n",
    "import polars as pl\n",
    "import re\n",
    "import ezregex as er\n",
    "import pandas as pd\n",
    "import concurrent.futures\n",
    "from jsonpath_ng.ext import *\n",
    "from unityparser import UnityDocument as UD\n",
    "from pyparsing import *\n",
    "from builtins import filter\n",
    "import numpy as np\n",
    "from clipboard import copy\n",
    "import itertools as it\n",
    "import multiprocessing\n",
    "import string\n",
    "import json\n",
    "from polars import col as c\n",
    "from tkinter import Tk\n",
    "from tkinter.filedialog import askdirectory\n",
    "from utils import *\n",
    "from load_data import *"
   ]
  },
  {
   "cell_type": "code",
   "execution_count": 3,
   "metadata": {},
   "outputs": [],
   "source": [
    "# Get the installation path from the user\n",
    "LANG = 'en-us'\n",
    "# Tk().withdraw() # we don't want a full GUI, so keep the root window from appearing\n",
    "# INSTALLATION_PATH = Path(askdirectory(mustexist=True, title='Select the KSP root directory'))\n",
    "INSTALLATION_PATH = Path('/home/zeke/Software/KSP_linux')"
   ]
  },
  {
   "cell_type": "code",
   "execution_count": 336,
   "metadata": {},
   "outputs": [],
   "source": [
    "from default_config import default_config\n",
    "PATH_GAMEDATA_OFFSET = len(str(INSTALLATION_PATH / 'GameData'))\n",
    "part_db_path, part_dump_file, loc_dump_file, localization_paths, thumbs_paths = construct_paths(INSTALLATION_PATH, LANG)\n",
    "fields, calculated, localized, types, default_fields, column_order, natively_list = construct_config(pd.DataFrame(default_config, columns=['columns', 'path', 'localized', 'type', 'default']))\n",
    "paths = get_paths(part_db_path)"
   ]
  },
  {
   "cell_type": "code",
   "execution_count": 6,
   "metadata": {},
   "outputs": [
    {
     "name": "stdout",
     "output_type": "stream",
     "text": [
      "Failed to parse /home/zeke/Software/KSP_linux/GameData/PlanetaryBaseInc/Localization/en-us.cfg: , found 'en'  (at char 23), (line:3, col:9)\n"
     ]
    }
   ],
   "source": [
    "string_lookup = load_localization(localization_paths)"
   ]
  },
  {
   "cell_type": "code",
   "execution_count": 7,
   "metadata": {},
   "outputs": [
    {
     "name": "stdout",
     "output_type": "stream",
     "text": [
      "Error parsing /home/zeke/Software/KSP_linux/GameData/PlanetaryBaseInc/ModSupport/Parts/Extraplanetary Launchpads/Workshop.cfg:\n",
      ", found '|'  (at char 20), (line:1, col:21)\n",
      "Error parsing /home/zeke/Software/KSP_linux/GameData/MechJeb2/Parts/MechJeb2_AR202/part.cfg:\n",
      ", found 'MODULE'  (at char 1035), (line:59, col:5)\n",
      "Error parsing /home/zeke/Software/KSP_linux/GameData/Kethane/Parts/kethane_1m_converter/part.cfg:\n",
      ", found 'MODULE'  (at char 840), (line:51, col:1)\n",
      "Error parsing /home/zeke/Software/KSP_linux/GameData/MechJeb2/Parts/MechJeb2_Pod/part.cfg:\n",
      "Expected end of text, found 'PART'  (at char 151), (line:10, col:1)Error parsing /home/zeke/Software/KSP_linux/GameData/Kethane/Parts/kethane_2m_converter/part.cfg:\n",
      ", found 'MODULE'  (at char 1195), (line:55, col:1)\n",
      "\n",
      "Error parsing /home/zeke/Software/KSP_linux/GameData/MechJeb2/Parts/MechJeb2_AR202/part.cfg:\n",
      ", found 'MODULE'  (at char 1035), (line:59, col:5)\n",
      "Error parsing /home/zeke/Software/KSP_linux/GameData/PlanetaryBaseInc/ModSupport/Parts/OSE Workshop/MaterialKits.cfg:\n",
      ", found '|'  (at char 19), (line:1, col:20)\n",
      "Error parsing /home/zeke/Software/KSP_linux/GameData/MechJeb2/Parts/MechJeb2_AR202/part.cfg:\n",
      ", found 'MODULE'  (at char 1035), (line:59, col:5)\n",
      "Error parsing /home/zeke/Software/KSP_linux/GameData/MechJeb2/Parts/MechJeb2_AR202/part.cfg:\n",
      ", found 'MODULE'  (at char 1035), (line:59, col:5)\n",
      "Error parsing /home/zeke/Software/KSP_linux/GameData/MechJeb2/Parts/MechJeb2_AR202/part.cfg:\n",
      ", found 'MODULE'  (at char 1035), (line:59, col:5)\n",
      "Error parsing /home/zeke/Software/KSP_linux/GameData/Squad/Parts/Engine/liquidEngineMainsail_v2/liquidEngineMainsail_v2.cfg:\n",
      ", found 'MODULE'  (at char 4483), (line:118, col:9)\n",
      "Error parsing /home/zeke/Software/KSP_linux/GameData/Workshop/Parts/OSE_Workshop/Workshop.cfg:\n",
      ", found 'MODULE'  (at char 1732), (line:53, col:9)\n",
      "Error parsing /home/zeke/Software/KSP_linux/GameData/Workshop/Parts/OSE_Workshop/WorkshopAICore.cfg:\n",
      ", found 'MODULE'  (at char 1255), (line:43, col:9)\n",
      "Error parsing /home/zeke/Software/KSP_linux/GameData/Workshop/Parts/OSE_Workshop/WorkshopChemical.cfg:\n",
      ", found 'MODULE'  (at char 1345), (line:44, col:9)\n",
      "Error parsing /home/zeke/Software/KSP_linux/GameData/Workshop/Parts/duct_tape/part.cfg:\n",
      "Expected end of text, found 'PART'  (at char 250), (line:14, col:1)\n",
      "Error parsing /home/zeke/Software/KSP_linux/GameData/SquadExpansion/Serenity/Parts/Robotics/RotorEngine_02.cfg:\n",
      ", found 'MODULE'  (at char 6294), (line:252, col:9)\n",
      "Error parsing /home/zeke/Software/KSP_linux/GameData/Workshop/Parts/duct_tape/part.cfg:\n",
      "Expected end of text, found 'PART'  (at char 250), (line:14, col:1)\n",
      "814/831 parts loaded. 17 parts failed to parse\n"
     ]
    }
   ],
   "source": [
    "results = load_parts(paths)\n",
    "failed = []\n",
    "all_parts = []\n",
    "for i in results:\n",
    "    if type(i) is str:\n",
    "        failed.append(i)\n",
    "    else:\n",
    "        all_parts += i\n",
    "print(f\"{len(all_parts)}/{len(all_parts)+len(failed)} parts loaded. {len(failed)} parts failed to parse\")"
   ]
  },
  {
   "cell_type": "code",
   "execution_count": 8,
   "metadata": {},
   "outputs": [],
   "source": [
    "thumbs = load_thumbs(thumbs_paths, PATH_GAMEDATA_OFFSET)"
   ]
  },
  {
   "cell_type": "code",
   "execution_count": 396,
   "metadata": {},
   "outputs": [
    {
     "data": {
      "text/html": [
       "<div><style>\n",
       ".dataframe > thead > tr,\n",
       ".dataframe > tbody > tr {\n",
       "  text-align: right;\n",
       "  white-space: pre-wrap;\n",
       "}\n",
       "</style>\n",
       "<small>shape: (796, 88)</small><table border=\"1\" class=\"dataframe\"><thead><tr><th>title</th><th>dry_mass</th><th>cost</th><th>crashTolerance</th><th>maxTemp</th><th>techLevel</th><th>manufacturer</th><th>description</th><th>author</th><th>module</th><th>rescaleFactor</th><th>minThrust</th><th>maxThrust</th><th>entryCost</th><th>attachRules</th><th>heatConductivity</th><th>skinInternalConductionMult</th><th>emissiveConstant</th><th>dragModelType</th><th>maximumDrag</th><th>minimumDrag</th><th>angularDrag</th><th>diameter</th><th>gimbalTransformName</th><th>gimbalRange</th><th>gimbalResponseSpeed</th><th>useGimbalResponseSpeed</th><th>jettisonName</th><th>bottomNodeName</th><th>isFairing</th><th>jettisonedObjectMass</th><th>jettisonForce</th><th>jettisonDirection</th><th>packedVolume</th><th>alternatorRate</th><th>experimentID</th><th>experimentActionName</th><th>&hellip;</th><th>heatProduction</th><th>exhaustDamageDistanceOffset</th><th>maxLiquidFuel</th><th>maxOxidizer</th><th>maxOre</th><th>maxElectricCharge</th><th>maxIntakeAir</th><th>maxMonoPropellant</th><th>defaultLiquidFuel</th><th>defaultOxidizer</th><th>defaultOre</th><th>defaultElectricCharge</th><th>defaultIntakeAir</th><th>defaultMonoPropellant</th><th>propellants</th><th>node_stack_top</th><th>node_stack_bottom</th><th>variant_y_offsets</th><th>ISP_atm</th><th>ISP_vac</th><th>tags</th><th>model_path</th><th>category</th><th>subcategory</th><th>path</th><th>name</th><th>TWR_dry</th><th>est_height</th><th>wet_mass</th><th>TWR_wet</th><th>ISP_vac_WR_dry</th><th>ISP_vac_WR_wet</th><th>ISP_atm_WR_dry</th><th>ISP_atm_WR_wet</th><th>icon_path</th><th>icon_url</th><th>provider</th></tr><tr><td>str</td><td>f64</td><td>f64</td><td>f64</td><td>i64</td><td>str</td><td>str</td><td>str</td><td>str</td><td>str</td><td>f64</td><td>f64</td><td>f64</td><td>i64</td><td>list[i64]</td><td>f64</td><td>f64</td><td>f64</td><td>str</td><td>f64</td><td>f64</td><td>f64</td><td>list[str]</td><td>str</td><td>f64</td><td>f64</td><td>bool</td><td>str</td><td>str</td><td>bool</td><td>f64</td><td>f64</td><td>list[i64]</td><td>i64</td><td>f64</td><td>str</td><td>str</td><td>&hellip;</td><td>f64</td><td>f64</td><td>f64</td><td>f64</td><td>f64</td><td>f64</td><td>f64</td><td>f64</td><td>f64</td><td>f64</td><td>f64</td><td>f64</td><td>f64</td><td>f64</td><td>list[str]</td><td>list[f64]</td><td>list[f64]</td><td>list[f64]</td><td>f64</td><td>f64</td><td>str</td><td>str</td><td>str</td><td>str</td><td>str</td><td>str</td><td>f64</td><td>f64</td><td>f64</td><td>f64</td><td>f64</td><td>f64</td><td>f64</td><td>f64</td><td>str</td><td>str</td><td>str</td></tr></thead><tbody><tr><td>&quot;24-77 &quot;Twitch&quot;…</td><td>0.08</td><td>230.0</td><td>7.0</td><td>2000</td><td>&quot;precisionPropu…</td><td>&quot;Rockomax Congl…</td><td>&quot;Tiny engine! B…</td><td>&quot;RoverDude&quot;</td><td>&quot;Part&quot;</td><td>1.0</td><td>0.0</td><td>16.0</td><td>920</td><td>[0, 1, … 0]</td><td>0.06</td><td>4.0</td><td>0.8</td><td>&quot;default&quot;</td><td>0.2</td><td>0.2</td><td>2.0</td><td>[&quot;srf&quot;]</td><td>&quot;Gimbal&quot;</td><td>8.0</td><td>30.0</td><td>true</td><td>null</td><td>null</td><td>null</td><td>null</td><td>null</td><td>null</td><td>65</td><td>null</td><td>null</td><td>null</td><td>&hellip;</td><td>150.0</td><td>0.12</td><td>null</td><td>null</td><td>null</td><td>null</td><td>null</td><td>null</td><td>null</td><td>null</td><td>null</td><td>null</td><td>null</td><td>null</td><td>[&quot;LiquidFuel&quot;, &quot;Oxidizer&quot;]</td><td>null</td><td>null</td><td>null</td><td>275.0</td><td>290.0</td><td>&quot;orange propuls…</td><td>&quot;Squad/Parts/En…</td><td>&quot;Engine&quot;</td><td>&quot;0&quot;</td><td>&quot;/home/zeke/Sof…</td><td>&quot;smallRadialEng…</td><td>200.0</td><td>null</td><td>0.08</td><td>200.0</td><td>3625.0</td><td>3625.0</td><td>3437.5</td><td>3437.5</td><td>&quot;/home/zeke/Sof…</td><td>&quot;http://0.0.0.0…</td><td>&quot;Squad&quot;</td></tr><tr><td>&quot;EM-64 Heavy Ro…</td><td>0.6</td><td>600.0</td><td>12.0</td><td>2000</td><td>&quot;advancedMotors…</td><td>&quot;Kerbal Motion …</td><td>&quot;A large low-to…</td><td>&quot;RoverDude&quot;</td><td>&quot;Part&quot;</td><td>1.0</td><td>null</td><td>null</td><td>8200</td><td>[1, 1, … 0]</td><td>null</td><td>null</td><td>null</td><td>&quot;default&quot;</td><td>0.2</td><td>0.2</td><td>1.0</td><td>[&quot;size1&quot;]</td><td>null</td><td>null</td><td>null</td><td>null</td><td>null</td><td>null</td><td>null</td><td>null</td><td>null</td><td>null</td><td>-1</td><td>null</td><td>null</td><td>null</td><td>&hellip;</td><td>null</td><td>null</td><td>null</td><td>null</td><td>null</td><td>null</td><td>null</td><td>null</td><td>null</td><td>null</td><td>null</td><td>null</td><td>null</td><td>null</td><td>null</td><td>[0.0, 1.25, … 2.0]</td><td>[0.0, 0.0, … 2.0]</td><td>null</td><td>null</td><td>null</td><td>&quot;robot actuator…</td><td>&quot;SquadExpansion…</td><td>&quot;Robotics&quot;</td><td>&quot;0&quot;</td><td>&quot;/home/zeke/Sof…</td><td>&quot;rotor_03&quot;</td><td>null</td><td>1.25</td><td>0.6</td><td>null</td><td>null</td><td>null</td><td>null</td><td>null</td><td>&quot;/home/zeke/Sof…</td><td>&quot;http://0.0.0.0…</td><td>&quot;SquadExpansion…</td></tr><tr><td>&quot;RC-15 RCS Thru…</td><td>0.0125</td><td>20.0</td><td>15.0</td><td>1500</td><td>&quot;advFlightContr…</td><td>&quot;STEADLER Engin…</td><td>&quot;Miniaturizing …</td><td>&quot;Chris Adderley…</td><td>&quot;Part&quot;</td><td>null</td><td>null</td><td>null</td><td>0</td><td>[0, 1, … 0]</td><td>null</td><td>null</td><td>null</td><td>&quot;default&quot;</td><td>0.001</td><td>0.001</td><td>2.0</td><td>[&quot;srf&quot;]</td><td>null</td><td>null</td><td>null</td><td>null</td><td>null</td><td>null</td><td>null</td><td>null</td><td>null</td><td>null</td><td>8</td><td>null</td><td>null</td><td>null</td><td>&hellip;</td><td>null</td><td>null</td><td>null</td><td>null</td><td>null</td><td>null</td><td>null</td><td>null</td><td>null</td><td>null</td><td>null</td><td>null</td><td>null</td><td>null</td><td>null</td><td>null</td><td>null</td><td>null</td><td>null</td><td>null</td><td>&quot;restock cluste…</td><td>&quot;ReStockPlus/As…</td><td>&quot;none&quot;</td><td>null</td><td>&quot;/home/zeke/Sof…</td><td>&quot;restock-rcs-bl…</td><td>null</td><td>null</td><td>0.0125</td><td>null</td><td>null</td><td>null</td><td>null</td><td>null</td><td>null</td><td>null</td><td>&quot;ReStockPlus&quot;</td></tr><tr><td>&quot;Engine Nacelle…</td><td>0.15</td><td>600.0</td><td>10.0</td><td>2000</td><td>&quot;aerodynamicSys…</td><td>&quot;C7 Aerospace D…</td><td>&quot;The Engine Nac…</td><td>&quot;C. Jenkins, Po…</td><td>&quot;Part&quot;</td><td>1.0</td><td>null</td><td>null</td><td>6500</td><td>[1, 1, … 0]</td><td>null</td><td>null</td><td>0.6</td><td>&quot;default&quot;</td><td>0.2</td><td>0.3</td><td>1.0</td><td>[&quot;size1&quot;, &quot;srf&quot;]</td><td>null</td><td>null</td><td>null</td><td>null</td><td>null</td><td>null</td><td>null</td><td>null</td><td>null</td><td>null</td><td>-1</td><td>null</td><td>null</td><td>null</td><td>&hellip;</td><td>null</td><td>null</td><td>150.0</td><td>null</td><td>null</td><td>null</td><td>5.0</td><td>null</td><td>150.0</td><td>null</td><td>null</td><td>null</td><td>5.0</td><td>null</td><td>null</td><td>[0.0, 0.9375, … 0.0]</td><td>[0.0, -0.9375, … 0.0]</td><td>null</td><td>null</td><td>null</td><td>&quot;aero (air airc…</td><td>&quot;Squad/Parts/St…</td><td>&quot;Aero&quot;</td><td>&quot;0&quot;</td><td>&quot;/home/zeke/Sof…</td><td>&quot;nacelleBody&quot;</td><td>null</td><td>1.875</td><td>0.9</td><td>null</td><td>null</td><td>null</td><td>null</td><td>null</td><td>null</td><td>null</td><td>&quot;Squad&quot;</td></tr><tr><td>&quot;RC-001S Remote…</td><td>0.1</td><td>2250.0</td><td>9.0</td><td>2000</td><td>&quot;advUnmanned&quot;</td><td>&quot;STEADLER Engin…</td><td>&quot;The STEADLER R…</td><td>&quot;Squad&quot;</td><td>&quot;Part&quot;</td><td>1.0</td><td>null</td><td>null</td><td>17800</td><td>[1, 0, … 0]</td><td>null</td><td>null</td><td>null</td><td>&quot;default&quot;</td><td>0.2</td><td>0.2</td><td>2.0</td><td>[&quot;size1&quot;]</td><td>null</td><td>null</td><td>null</td><td>null</td><td>null</td><td>null</td><td>null</td><td>null</td><td>null</td><td>null</td><td>400</td><td>null</td><td>null</td><td>null</td><td>&hellip;</td><td>null</td><td>null</td><td>null</td><td>null</td><td>null</td><td>null</td><td>null</td><td>null</td><td>null</td><td>null</td><td>null</td><td>null</td><td>null</td><td>null</td><td>null</td><td>[0.0, 0.1, … 1.0]</td><td>[0.0, -0.1, … 1.0]</td><td>null</td><td>null</td><td>null</td><td>&quot;cmg command co…</td><td>null</td><td>&quot;Pods&quot;</td><td>&quot;0&quot;</td><td>&quot;/home/zeke/Sof…</td><td>&quot;probeStackSmal…</td><td>null</td><td>0.2</td><td>0.1</td><td>null</td><td>null</td><td>null</td><td>null</td><td>null</td><td>&quot;/home/zeke/Sof…</td><td>&quot;http://0.0.0.0…</td><td>&quot;Squad&quot;</td></tr><tr><td>&hellip;</td><td>&hellip;</td><td>&hellip;</td><td>&hellip;</td><td>&hellip;</td><td>&hellip;</td><td>&hellip;</td><td>&hellip;</td><td>&hellip;</td><td>&hellip;</td><td>&hellip;</td><td>&hellip;</td><td>&hellip;</td><td>&hellip;</td><td>&hellip;</td><td>&hellip;</td><td>&hellip;</td><td>&hellip;</td><td>&hellip;</td><td>&hellip;</td><td>&hellip;</td><td>&hellip;</td><td>&hellip;</td><td>&hellip;</td><td>&hellip;</td><td>&hellip;</td><td>&hellip;</td><td>&hellip;</td><td>&hellip;</td><td>&hellip;</td><td>&hellip;</td><td>&hellip;</td><td>&hellip;</td><td>&hellip;</td><td>&hellip;</td><td>&hellip;</td><td>&hellip;</td><td>&hellip;</td><td>&hellip;</td><td>&hellip;</td><td>&hellip;</td><td>&hellip;</td><td>&hellip;</td><td>&hellip;</td><td>&hellip;</td><td>&hellip;</td><td>&hellip;</td><td>&hellip;</td><td>&hellip;</td><td>&hellip;</td><td>&hellip;</td><td>&hellip;</td><td>&hellip;</td><td>&hellip;</td><td>&hellip;</td><td>&hellip;</td><td>&hellip;</td><td>&hellip;</td><td>&hellip;</td><td>&hellip;</td><td>&hellip;</td><td>&hellip;</td><td>&hellip;</td><td>&hellip;</td><td>&hellip;</td><td>&hellip;</td><td>&hellip;</td><td>&hellip;</td><td>&hellip;</td><td>&hellip;</td><td>&hellip;</td><td>&hellip;</td><td>&hellip;</td><td>&hellip;</td><td>&hellip;</td></tr><tr><td>&quot;SP-S12 Structu…</td><td>0.075</td><td>30.0</td><td>80.0</td><td>2000</td><td>&quot;composites&quot;</td><td>&quot;Dinkelstein Ke…</td><td>&quot;A sturdy metal…</td><td>&quot;RoverDude&quot;</td><td>&quot;Part&quot;</td><td>1.0</td><td>null</td><td>null</td><td>7200</td><td>[1, 1, … 1]</td><td>null</td><td>null</td><td>null</td><td>&quot;default&quot;</td><td>0.2</td><td>0.2</td><td>1.0</td><td>[&quot;size1&quot;, &quot;srf&quot;]</td><td>null</td><td>null</td><td>null</td><td>null</td><td>null</td><td>null</td><td>null</td><td>null</td><td>null</td><td>null</td><td>125</td><td>null</td><td>null</td><td>null</td><td>&hellip;</td><td>null</td><td>null</td><td>null</td><td>null</td><td>null</td><td>null</td><td>null</td><td>null</td><td>null</td><td>null</td><td>null</td><td>null</td><td>null</td><td>null</td><td>null</td><td>[0.0, 0.0, … 0.0]</td><td>[0.0, 0.0, … 0.0]</td><td>null</td><td>null</td><td>null</td><td>&quot;support extend…</td><td>&quot;SquadExpansion…</td><td>&quot;Structural&quot;</td><td>&quot;0&quot;</td><td>&quot;/home/zeke/Sof…</td><td>&quot;Panel1&quot;</td><td>null</td><td>0.0</td><td>0.075</td><td>null</td><td>null</td><td>null</td><td>null</td><td>null</td><td>&quot;/home/zeke/Sof…</td><td>&quot;http://0.0.0.0…</td><td>&quot;SquadExpansion…</td></tr><tr><td>&quot;Rotation Servo…</td><td>0.08</td><td>120.0</td><td>12.0</td><td>2000</td><td>&quot;actuators&quot;</td><td>&quot;Kerbal Motion …</td><td>&quot;A medium, high…</td><td>&quot;RoverDude&quot;</td><td>&quot;Part&quot;</td><td>1.0</td><td>null</td><td>null</td><td>3500</td><td>[1, 1, … 0]</td><td>null</td><td>null</td><td>null</td><td>&quot;default&quot;</td><td>0.2</td><td>0.2</td><td>1.0</td><td>[&quot;size0&quot;]</td><td>null</td><td>null</td><td>null</td><td>null</td><td>null</td><td>null</td><td>null</td><td>null</td><td>null</td><td>null</td><td>250</td><td>null</td><td>null</td><td>null</td><td>&hellip;</td><td>null</td><td>null</td><td>null</td><td>null</td><td>null</td><td>null</td><td>null</td><td>null</td><td>null</td><td>null</td><td>null</td><td>null</td><td>null</td><td>null</td><td>null</td><td>[0.0, 0.62483, … 1.0]</td><td>[0.0, 0.0, … 1.0]</td><td>null</td><td>null</td><td>null</td><td>&quot;robot actuator…</td><td>&quot;SquadExpansion…</td><td>&quot;Robotics&quot;</td><td>&quot;0&quot;</td><td>&quot;/home/zeke/Sof…</td><td>&quot;rotoServo_03&quot;</td><td>null</td><td>0.62483</td><td>0.08</td><td>null</td><td>null</td><td>null</td><td>null</td><td>null</td><td>&quot;/home/zeke/Sof…</td><td>&quot;http://0.0.0.0…</td><td>&quot;SquadExpansion…</td></tr><tr><td>&quot;Standard Canar…</td><td>0.1</td><td>720.0</td><td>12.0</td><td>2400</td><td>&quot;advAerodynamic…</td><td>&quot;C7 Aerospace D…</td><td>&quot;Our engineers …</td><td>&quot;C. Jenkins, Po…</td><td>&quot;Part&quot;</td><td>1.0</td><td>null</td><td>null</td><td>11400</td><td>[0, 1, … 0]</td><td>null</td><td>null</td><td>0.95</td><td>&quot;none&quot;</td><td>0.02</td><td>0.02</td><td>3.0</td><td>[&quot;srf&quot;]</td><td>null</td><td>null</td><td>null</td><td>null</td><td>null</td><td>null</td><td>null</td><td>null</td><td>null</td><td>null</td><td>-1</td><td>null</td><td>null</td><td>null</td><td>&hellip;</td><td>null</td><td>null</td><td>null</td><td>null</td><td>null</td><td>null</td><td>null</td><td>null</td><td>null</td><td>null</td><td>null</td><td>null</td><td>null</td><td>null</td><td>null</td><td>null</td><td>null</td><td>null</td><td>null</td><td>null</td><td>&quot;aero (air cont…</td><td>&quot;Squad/Parts/Ae…</td><td>&quot;Aero&quot;</td><td>&quot;0&quot;</td><td>&quot;/home/zeke/Sof…</td><td>&quot;CanardControll…</td><td>null</td><td>null</td><td>0.1</td><td>null</td><td>null</td><td>null</td><td>null</td><td>null</td><td>null</td><td>null</td><td>&quot;Squad&quot;</td></tr><tr><td>&quot;Jumbo Holding …</td><td>4.3</td><td>4000.0</td><td>7.0</td><td>2000</td><td>&quot;experimentalSc…</td><td>&quot;Jebediah Kerma…</td><td>&quot;A very large t…</td><td>&quot;Andrew Cassidy…</td><td>&quot;Part&quot;</td><td>1.0</td><td>null</td><td>null</td><td>12000</td><td>[1, 1, … 0]</td><td>null</td><td>null</td><td>null</td><td>&quot;default&quot;</td><td>0.2</td><td>0.2</td><td>2.0</td><td>[&quot;size3&quot;]</td><td>null</td><td>null</td><td>null</td><td>null</td><td>null</td><td>null</td><td>null</td><td>null</td><td>null</td><td>null</td><td>null</td><td>null</td><td>null</td><td>null</td><td>&hellip;</td><td>null</td><td>null</td><td>null</td><td>null</td><td>null</td><td>null</td><td>null</td><td>null</td><td>null</td><td>null</td><td>null</td><td>null</td><td>null</td><td>null</td><td>null</td><td>[0.0, 0.9, … 3.0]</td><td>[0.0, -0.9, … 3.0]</td><td>null</td><td>null</td><td>null</td><td>&quot;black isru min…</td><td>&quot;ReStockPlus/As…</td><td>&quot;FuelTank&quot;</td><td>null</td><td>&quot;/home/zeke/Sof…</td><td>&quot;restock-oretan…</td><td>null</td><td>1.8</td><td>4.3</td><td>null</td><td>null</td><td>null</td><td>null</td><td>null</td><td>&quot;/home/zeke/Sof…</td><td>&quot;http://0.0.0.0…</td><td>&quot;ReStockPlus&quot;</td></tr><tr><td>&quot;FL-A150 Fuel T…</td><td>0.1</td><td>160.0</td><td>10.0</td><td>2000</td><td>&quot;fuelSystems&quot;</td><td>&quot;Jebediah Kerma…</td><td>&quot;These fuel-fil…</td><td>&quot;PJ&quot;</td><td>&quot;Part&quot;</td><td>1.0</td><td>null</td><td>null</td><td>1550</td><td>[1, 0, … 0]</td><td>null</td><td>null</td><td>null</td><td>&quot;default&quot;</td><td>0.2</td><td>0.3</td><td>2.0</td><td>[&quot;size0&quot;, &quot;size1p5&quot;, &quot;srf&quot;]</td><td>null</td><td>null</td><td>null</td><td>null</td><td>null</td><td>null</td><td>null</td><td>null</td><td>null</td><td>null</td><td>null</td><td>null</td><td>null</td><td>null</td><td>&hellip;</td><td>null</td><td>null</td><td>72.0</td><td>88.0</td><td>null</td><td>null</td><td>null</td><td>null</td><td>72.0</td><td>88.0</td><td>null</td><td>null</td><td>null</td><td>null</td><td>null</td><td>[0.0, 0.375, … 0.0]</td><td>[0.0, -0.375, … 2.0]</td><td>null</td><td>null</td><td>null</td><td>&quot;rocket fuel li…</td><td>&quot;SquadExpansion…</td><td>&quot;FuelTank&quot;</td><td>&quot;0&quot;</td><td>&quot;/home/zeke/Sof…</td><td>&quot;Size1p5_Size0_…</td><td>null</td><td>0.75</td><td>0.9</td><td>null</td><td>null</td><td>null</td><td>null</td><td>null</td><td>&quot;/home/zeke/Sof…</td><td>&quot;http://0.0.0.0…</td><td>&quot;SquadExpansion…</td></tr></tbody></table></div>"
      ],
      "text/plain": [
       "shape: (796, 88)\n",
       "┌────────────┬──────────┬────────┬────────────┬───┬────────────┬───────────┬───────────┬───────────┐\n",
       "│ title      ┆ dry_mass ┆ cost   ┆ crashToler ┆ … ┆ ISP_atm_WR ┆ icon_path ┆ icon_url  ┆ provider  │\n",
       "│ ---        ┆ ---      ┆ ---    ┆ ance       ┆   ┆ _wet       ┆ ---       ┆ ---       ┆ ---       │\n",
       "│ str        ┆ f64      ┆ f64    ┆ ---        ┆   ┆ ---        ┆ str       ┆ str       ┆ str       │\n",
       "│            ┆          ┆        ┆ f64        ┆   ┆ f64        ┆           ┆           ┆           │\n",
       "╞════════════╪══════════╪════════╪════════════╪═══╪════════════╪═══════════╪═══════════╪═══════════╡\n",
       "│ 24-77      ┆ 0.08     ┆ 230.0  ┆ 7.0        ┆ … ┆ 3437.5     ┆ /home/zek ┆ http://0. ┆ Squad     │\n",
       "│ \"Twitch\"   ┆          ┆        ┆            ┆   ┆            ┆ e/Softwar ┆ 0.0.0:800 ┆           │\n",
       "│ Liquid     ┆          ┆        ┆            ┆   ┆            ┆ e/KSP_lin ┆ 0/Squad/P ┆           │\n",
       "│ Fuel       ┆          ┆        ┆            ┆   ┆            ┆ ux/Ga…    ┆ arts/…    ┆           │\n",
       "│ Engin…     ┆          ┆        ┆            ┆   ┆            ┆           ┆           ┆           │\n",
       "│ EM-64      ┆ 0.6      ┆ 600.0  ┆ 12.0       ┆ … ┆ null       ┆ /home/zek ┆ http://0. ┆ SquadExpa │\n",
       "│ Heavy      ┆          ┆        ┆            ┆   ┆            ┆ e/Softwar ┆ 0.0.0:800 ┆ nsion     │\n",
       "│ Rotor      ┆          ┆        ┆            ┆   ┆            ┆ e/KSP_lin ┆ 0/SquadEx ┆           │\n",
       "│            ┆          ┆        ┆            ┆   ┆            ┆ ux/Ga…    ┆ pansi…    ┆           │\n",
       "│ RC-15 RCS  ┆ 0.0125   ┆ 20.0   ┆ 15.0       ┆ … ┆ null       ┆ null      ┆ null      ┆ ReStockPl │\n",
       "│ Thruster   ┆          ┆        ┆            ┆   ┆            ┆           ┆           ┆ us        │\n",
       "│ Block      ┆          ┆        ┆            ┆   ┆            ┆           ┆           ┆           │\n",
       "│ Engine     ┆ 0.15     ┆ 600.0  ┆ 10.0       ┆ … ┆ null       ┆ null      ┆ null      ┆ Squad     │\n",
       "│ Nacelle    ┆          ┆        ┆            ┆   ┆            ┆           ┆           ┆           │\n",
       "│ RC-001S    ┆ 0.1      ┆ 2250.0 ┆ 9.0        ┆ … ┆ null       ┆ /home/zek ┆ http://0. ┆ Squad     │\n",
       "│ Remote     ┆          ┆        ┆            ┆   ┆            ┆ e/Softwar ┆ 0.0.0:800 ┆           │\n",
       "│ Guidance   ┆          ┆        ┆            ┆   ┆            ┆ e/KSP_lin ┆ 0/Squad/P ┆           │\n",
       "│ Unit       ┆          ┆        ┆            ┆   ┆            ┆ ux/Ga…    ┆ arts/…    ┆           │\n",
       "│ …          ┆ …        ┆ …      ┆ …          ┆ … ┆ …          ┆ …         ┆ …         ┆ …         │\n",
       "│ SP-S12     ┆ 0.075    ┆ 30.0   ┆ 80.0       ┆ … ┆ null       ┆ /home/zek ┆ http://0. ┆ SquadExpa │\n",
       "│ Structural ┆          ┆        ┆            ┆   ┆            ┆ e/Softwar ┆ 0.0.0:800 ┆ nsion     │\n",
       "│ Panel      ┆          ┆        ┆            ┆   ┆            ┆ e/KSP_lin ┆ 0/SquadEx ┆           │\n",
       "│            ┆          ┆        ┆            ┆   ┆            ┆ ux/Ga…    ┆ pansi…    ┆           │\n",
       "│ Rotation   ┆ 0.08     ┆ 120.0  ┆ 12.0       ┆ … ┆ null       ┆ /home/zek ┆ http://0. ┆ SquadExpa │\n",
       "│ Servo M-12 ┆          ┆        ┆            ┆   ┆            ┆ e/Softwar ┆ 0.0.0:800 ┆ nsion     │\n",
       "│            ┆          ┆        ┆            ┆   ┆            ┆ e/KSP_lin ┆ 0/SquadEx ┆           │\n",
       "│            ┆          ┆        ┆            ┆   ┆            ┆ ux/Ga…    ┆ pansi…    ┆           │\n",
       "│ Standard   ┆ 0.1      ┆ 720.0  ┆ 12.0       ┆ … ┆ null       ┆ null      ┆ null      ┆ Squad     │\n",
       "│ Canard     ┆          ┆        ┆            ┆   ┆            ┆           ┆           ┆           │\n",
       "│ Jumbo      ┆ 4.3      ┆ 4000.0 ┆ 7.0        ┆ … ┆ null       ┆ /home/zek ┆ http://0. ┆ ReStockPl │\n",
       "│ Holding    ┆          ┆        ┆            ┆   ┆            ┆ e/Softwar ┆ 0.0.0:800 ┆ us        │\n",
       "│ Tank       ┆          ┆        ┆            ┆   ┆            ┆ e/KSP_lin ┆ 0/ReStock ┆           │\n",
       "│            ┆          ┆        ┆            ┆   ┆            ┆ ux/Ga…    ┆ Plus/…    ┆           │\n",
       "│ FL-A150    ┆ 0.1      ┆ 160.0  ┆ 10.0       ┆ … ┆ null       ┆ /home/zek ┆ http://0. ┆ SquadExpa │\n",
       "│ Fuel Tank  ┆          ┆        ┆            ┆   ┆            ┆ e/Softwar ┆ 0.0.0:800 ┆ nsion     │\n",
       "│ Adapter    ┆          ┆        ┆            ┆   ┆            ┆ e/KSP_lin ┆ 0/SquadEx ┆           │\n",
       "│            ┆          ┆        ┆            ┆   ┆            ┆ ux/Ga…    ┆ pansi…    ┆           │\n",
       "└────────────┴──────────┴────────┴────────────┴───┴────────────┴───────────┴───────────┴───────────┘"
      ]
     },
     "execution_count": 396,
     "metadata": {},
     "output_type": "execute_result"
    }
   ],
   "source": [
    "from default_config import default_config\n",
    "PATH_GAMEDATA_OFFSET = len(str(INSTALLATION_PATH / 'GameData'))\n",
    "part_db_path, part_dump_file, loc_dump_file, localization_paths, thumbs_paths = construct_paths(INSTALLATION_PATH, LANG)\n",
    "fields, calculated, localized, types, default_fields, column_order, natively_list = construct_config(pd.DataFrame(default_config, columns=['columns', 'path', 'localized', 'type', 'default']))\n",
    "paths = get_paths(part_db_path)\n",
    "\n",
    "df = construct_df(fields, all_parts, localized, string_lookup, types, calculated, natively_list, thumbs, PATH_GAMEDATA_OFFSET)\n",
    "df"
   ]
  },
  {
   "cell_type": "code",
   "execution_count": 10,
   "metadata": {},
   "outputs": [],
   "source": [
    "booster_parts = create_booster(df.filter(c('provider').str.contains('Squad')), 100, 'size4')"
   ]
  },
  {
   "cell_type": "code",
   "execution_count": 11,
   "metadata": {},
   "outputs": [
    {
     "ename": "TypeError",
     "evalue": "compile_parts() takes 3 positional arguments but 4 were given",
     "output_type": "error",
     "traceback": [
      "\u001b[0;31m---------------------------------------------------------------------------\u001b[0m",
      "\u001b[0;31mTypeError\u001b[0m                                 Traceback (most recent call last)",
      "Cell \u001b[0;32mIn[11], line 1\u001b[0m\n\u001b[0;32m----> 1\u001b[0m copy(\u001b[43mcompile_parts\u001b[49m\u001b[43m(\u001b[49m\u001b[43mbooster_parts\u001b[49m\u001b[43m,\u001b[49m\u001b[43m \u001b[49m\u001b[38;5;124;43m'\u001b[39;49m\u001b[38;5;124;43mNAME_OF_SAVE\u001b[39;49m\u001b[38;5;124;43m'\u001b[39;49m\u001b[43m,\u001b[49m\u001b[43m \u001b[49m\u001b[38;5;124;43m'\u001b[39;49m\u001b[38;5;124;43mfairing_12345\u001b[39;49m\u001b[38;5;124;43m'\u001b[39;49m\u001b[43m,\u001b[49m\u001b[43m \u001b[49m\u001b[38;5;241;43m12\u001b[39;49m\u001b[43m)\u001b[49m)\n",
      "\u001b[0;31mTypeError\u001b[0m: compile_parts() takes 3 positional arguments but 4 were given"
     ]
    }
   ],
   "source": [
    "copy(compile_parts(booster_parts, 'NAME_OF_SAVE', 'fairing_12345', 12))"
   ]
  },
  {
   "cell_type": "code",
   "execution_count": 11,
   "metadata": {},
   "outputs": [],
   "source": [
    "save = read_existing_save(df, '/home/zeke/Software/KSP_linux/saves/TESTING_ONLY/Ships/VAB/TEST_PARTS.craft')"
   ]
  },
  {
   "cell_type": "code",
   "execution_count": 38,
   "metadata": {},
   "outputs": [],
   "source": [
    "save = convert_list_to_dict(parse_cfg_file('/home/zeke/Software/KSP_linux/saves/TESTING_ONLY/Ships/VAB/TEST_PARTS.craft').as_list())"
   ]
  },
  {
   "cell_type": "code",
   "execution_count": 12,
   "metadata": {},
   "outputs": [],
   "source": [
    "test_save = '/home/zeke/Software/KSP_linux/saves/TESTING_ONLY/Ships/VAB/TEST_PARTS.craft'"
   ]
  },
  {
   "cell_type": "markdown",
   "metadata": {},
   "source": [
    "# TODO: part names must be unique for read_existing_save() to work"
   ]
  },
  {
   "cell_type": "code",
   "execution_count": 409,
   "metadata": {},
   "outputs": [
    {
     "data": {
      "text/plain": [
       "'/home/zeke/Software/KSP_linux/saves/TESTING_ONLY/Ships/VAB/TEST_PARTS_booster.craft'"
      ]
     },
     "execution_count": 409,
     "metadata": {},
     "output_type": "execute_result"
    }
   ],
   "source": [
    "save_file = Path(test_save)\n",
    "str(save_file.parent / save_file.name[:-6]) + '_booster.craft'"
   ]
  },
  {
   "cell_type": "code",
   "execution_count": 388,
   "metadata": {},
   "outputs": [
    {
     "data": {
      "text/html": [
       "<div><style>\n",
       ".dataframe > thead > tr,\n",
       ".dataframe > tbody > tr {\n",
       "  text-align: right;\n",
       "  white-space: pre-wrap;\n",
       "}\n",
       "</style>\n",
       "<small>shape: (1, 88)</small><table border=\"1\" class=\"dataframe\"><thead><tr><th>title</th><th>dry_mass</th><th>cost</th><th>crashTolerance</th><th>maxTemp</th><th>techLevel</th><th>manufacturer</th><th>description</th><th>author</th><th>module</th><th>rescaleFactor</th><th>minThrust</th><th>maxThrust</th><th>entryCost</th><th>attachRules</th><th>heatConductivity</th><th>skinInternalConductionMult</th><th>emissiveConstant</th><th>dragModelType</th><th>maximumDrag</th><th>minimumDrag</th><th>angularDrag</th><th>diameter</th><th>gimbalTransformName</th><th>gimbalRange</th><th>gimbalResponseSpeed</th><th>useGimbalResponseSpeed</th><th>jettisonName</th><th>bottomNodeName</th><th>isFairing</th><th>jettisonedObjectMass</th><th>jettisonForce</th><th>jettisonDirection</th><th>packedVolume</th><th>alternatorRate</th><th>experimentID</th><th>experimentActionName</th><th>&hellip;</th><th>heatProduction</th><th>exhaustDamageDistanceOffset</th><th>maxLiquidFuel</th><th>maxOxidizer</th><th>maxOre</th><th>maxElectricCharge</th><th>maxIntakeAir</th><th>maxMonoPropellant</th><th>defaultLiquidFuel</th><th>defaultOxidizer</th><th>defaultOre</th><th>defaultElectricCharge</th><th>defaultIntakeAir</th><th>defaultMonoPropellant</th><th>propellants</th><th>node_stack_top</th><th>node_stack_bottom</th><th>variant_y_offsets</th><th>ISP_atm</th><th>ISP_vac</th><th>tags</th><th>model_path</th><th>category</th><th>subcategory</th><th>path</th><th>name</th><th>TWR_dry</th><th>est_height</th><th>wet_mass</th><th>TWR_wet</th><th>ISP_vac_WR_dry</th><th>ISP_vac_WR_wet</th><th>ISP_atm_WR_dry</th><th>ISP_atm_WR_wet</th><th>icon_path</th><th>icon_url</th><th>provider</th></tr><tr><td>str</td><td>f64</td><td>f64</td><td>f64</td><td>i64</td><td>str</td><td>str</td><td>str</td><td>str</td><td>str</td><td>f64</td><td>f64</td><td>f64</td><td>i64</td><td>list[i64]</td><td>f64</td><td>f64</td><td>f64</td><td>str</td><td>f64</td><td>f64</td><td>f64</td><td>list[str]</td><td>str</td><td>f64</td><td>f64</td><td>bool</td><td>str</td><td>str</td><td>bool</td><td>f64</td><td>f64</td><td>list[i64]</td><td>i64</td><td>f64</td><td>str</td><td>str</td><td>&hellip;</td><td>f64</td><td>f64</td><td>f64</td><td>f64</td><td>f64</td><td>f64</td><td>f64</td><td>f64</td><td>f64</td><td>f64</td><td>f64</td><td>f64</td><td>f64</td><td>f64</td><td>list[str]</td><td>list[f64]</td><td>list[f64]</td><td>list[f64]</td><td>f64</td><td>f64</td><td>str</td><td>str</td><td>str</td><td>str</td><td>str</td><td>str</td><td>f64</td><td>f64</td><td>f64</td><td>f64</td><td>f64</td><td>f64</td><td>f64</td><td>f64</td><td>str</td><td>str</td><td>str</td></tr></thead><tbody><tr><td>&quot;AE-FF0 Airstre…</td><td>0.01875</td><td>150.0</td><td>9.0</td><td>2600</td><td>&quot;advConstructio…</td><td>&quot;FLOOYD Dynamic…</td><td>&quot;While the Kerb…</td><td>&quot;Chris Adderley…</td><td>&quot;Part&quot;</td><td>1.0</td><td>null</td><td>null</td><td>1500</td><td>[1, 0, … 0]</td><td>null</td><td>0.25</td><td>0.8</td><td>&quot;default&quot;</td><td>0.2</td><td>0.2</td><td>2.0</td><td>[&quot;size0&quot;]</td><td>null</td><td>null</td><td>null</td><td>null</td><td>null</td><td>null</td><td>null</td><td>null</td><td>null</td><td>null</td><td>null</td><td>null</td><td>null</td><td>null</td><td>&hellip;</td><td>null</td><td>null</td><td>null</td><td>null</td><td>null</td><td>null</td><td>null</td><td>null</td><td>null</td><td>null</td><td>null</td><td>null</td><td>null</td><td>null</td><td>null</td><td>[0.0, 0.138, … 0.0]</td><td>[0.0, -0.045, … 0.0]</td><td>null</td><td>null</td><td>null</td><td>&quot;restock aero )…</td><td>null</td><td>&quot;Payload&quot;</td><td>null</td><td>&quot;/home/zeke/Sof…</td><td>&quot;restock-fairin…</td><td>null</td><td>0.183</td><td>0.01875</td><td>null</td><td>null</td><td>null</td><td>null</td><td>null</td><td>&quot;/home/zeke/Sof…</td><td>&quot;http://0.0.0.0…</td><td>&quot;ReStockPlus&quot;</td></tr></tbody></table></div>"
      ],
      "text/plain": [
       "shape: (1, 88)\n",
       "┌────────────┬──────────┬───────┬────────────┬───┬────────────┬────────────┬───────────┬───────────┐\n",
       "│ title      ┆ dry_mass ┆ cost  ┆ crashToler ┆ … ┆ ISP_atm_WR ┆ icon_path  ┆ icon_url  ┆ provider  │\n",
       "│ ---        ┆ ---      ┆ ---   ┆ ance       ┆   ┆ _wet       ┆ ---        ┆ ---       ┆ ---       │\n",
       "│ str        ┆ f64      ┆ f64   ┆ ---        ┆   ┆ ---        ┆ str        ┆ str       ┆ str       │\n",
       "│            ┆          ┆       ┆ f64        ┆   ┆ f64        ┆            ┆           ┆           │\n",
       "╞════════════╪══════════╪═══════╪════════════╪═══╪════════════╪════════════╪═══════════╪═══════════╡\n",
       "│ AE-FF0     ┆ 0.01875  ┆ 150.0 ┆ 9.0        ┆ … ┆ null       ┆ /home/zeke ┆ http://0. ┆ ReStockPl │\n",
       "│ Airstream  ┆          ┆       ┆            ┆   ┆            ┆ /Software/ ┆ 0.0.0:800 ┆ us        │\n",
       "│ Protective ┆          ┆       ┆            ┆   ┆            ┆ KSP_linux/ ┆ 0/ReStock ┆           │\n",
       "│ Shel…      ┆          ┆       ┆            ┆   ┆            ┆ Ga…        ┆ Plus/…    ┆           │\n",
       "└────────────┴──────────┴───────┴────────────┴───┴────────────┴────────────┴───────────┴───────────┘"
      ]
     },
     "execution_count": 388,
     "metadata": {},
     "output_type": "execute_result"
    }
   ],
   "source": [
    "df.filter(c('name') == 'restock-fairing-base-0625-1')"
   ]
  },
  {
   "cell_type": "code",
   "execution_count": 410,
   "metadata": {},
   "outputs": [
    {
     "name": "stdout",
     "output_type": "stream",
     "text": [
      "Generating Booster for payload named \"Actual Test\"\n",
      "Payload has a mass of 0.991T, and a size1p5 fairing at [0.0, 12.495403097, 0.0]\n",
      "Calculated deltaV: 1160.77931305366 for diameter size1p5\n",
      "Calculated deltaV: 3328.7043219176776 for diameter size2\n"
     ]
    },
    {
     "data": {
      "text/html": [
       "<div><style>\n",
       ".dataframe > thead > tr,\n",
       ".dataframe > tbody > tr {\n",
       "  text-align: right;\n",
       "  white-space: pre-wrap;\n",
       "}\n",
       "</style>\n",
       "<small>shape: (15, 94)</small><table border=\"1\" class=\"dataframe\"><thead><tr><th>id</th><th>title</th><th>dry_mass</th><th>cost</th><th>crashTolerance</th><th>maxTemp</th><th>techLevel</th><th>manufacturer</th><th>description</th><th>author</th><th>module</th><th>rescaleFactor</th><th>minThrust</th><th>maxThrust</th><th>entryCost</th><th>attachRules</th><th>heatConductivity</th><th>skinInternalConductionMult</th><th>emissiveConstant</th><th>dragModelType</th><th>maximumDrag</th><th>minimumDrag</th><th>angularDrag</th><th>diameter</th><th>gimbalTransformName</th><th>gimbalRange</th><th>gimbalResponseSpeed</th><th>useGimbalResponseSpeed</th><th>jettisonName</th><th>bottomNodeName</th><th>isFairing</th><th>jettisonedObjectMass</th><th>jettisonForce</th><th>jettisonDirection</th><th>packedVolume</th><th>alternatorRate</th><th>experimentID</th><th>&hellip;</th><th>maxElectricCharge</th><th>maxIntakeAir</th><th>maxMonoPropellant</th><th>defaultLiquidFuel</th><th>defaultOxidizer</th><th>defaultOre</th><th>defaultElectricCharge</th><th>defaultIntakeAir</th><th>defaultMonoPropellant</th><th>propellants</th><th>node_stack_top</th><th>node_stack_bottom</th><th>variant_y_offsets</th><th>ISP_atm</th><th>ISP_vac</th><th>tags</th><th>model_path</th><th>category</th><th>subcategory</th><th>path</th><th>name</th><th>TWR_dry</th><th>est_height</th><th>wet_mass</th><th>TWR_wet</th><th>ISP_vac_WR_dry</th><th>ISP_vac_WR_wet</th><th>ISP_atm_WR_dry</th><th>ISP_atm_WR_wet</th><th>icon_path</th><th>icon_url</th><th>provider</th><th>stage</th><th>part_id</th><th>prev_part_id</th><th>next_part_id</th><th>height</th></tr><tr><td>u32</td><td>str</td><td>f64</td><td>f64</td><td>f64</td><td>i64</td><td>str</td><td>str</td><td>str</td><td>str</td><td>str</td><td>f64</td><td>f64</td><td>f64</td><td>i64</td><td>list[i64]</td><td>f64</td><td>f64</td><td>f64</td><td>str</td><td>f64</td><td>f64</td><td>f64</td><td>list[str]</td><td>str</td><td>f64</td><td>f64</td><td>bool</td><td>str</td><td>str</td><td>bool</td><td>f64</td><td>f64</td><td>list[i64]</td><td>i64</td><td>f64</td><td>str</td><td>&hellip;</td><td>f64</td><td>f64</td><td>f64</td><td>f64</td><td>f64</td><td>f64</td><td>f64</td><td>f64</td><td>f64</td><td>list[str]</td><td>list[f64]</td><td>list[f64]</td><td>list[f64]</td><td>f64</td><td>f64</td><td>str</td><td>str</td><td>str</td><td>str</td><td>str</td><td>str</td><td>f64</td><td>f64</td><td>f64</td><td>f64</td><td>f64</td><td>f64</td><td>f64</td><td>f64</td><td>str</td><td>str</td><td>str</td><td>i32</td><td>str</td><td>str</td><td>str</td><td>f64</td></tr></thead><tbody><tr><td>1</td><td>&quot;TD-12 Decouple…</td><td>0.04</td><td>200.0</td><td>6.0</td><td>2000</td><td>&quot;engineering101…</td><td>&quot;O.M.B. Demolit…</td><td>&quot;The TD-12 Stac…</td><td>&quot;RoverDude&quot;</td><td>&quot;Part&quot;</td><td>1.0</td><td>null</td><td>null</td><td>1600</td><td>[1, 0, … 0]</td><td>null</td><td>null</td><td>null</td><td>&quot;default&quot;</td><td>0.2</td><td>0.2</td><td>2.0</td><td>[&quot;size1&quot;]</td><td>null</td><td>null</td><td>null</td><td>null</td><td>null</td><td>null</td><td>null</td><td>null</td><td>null</td><td>null</td><td>260</td><td>null</td><td>null</td><td>&hellip;</td><td>null</td><td>null</td><td>null</td><td>null</td><td>null</td><td>null</td><td>null</td><td>null</td><td>null</td><td>null</td><td>[0.0, 0.05, … 1.0]</td><td>[0.0, -0.05, … 1.0]</td><td>null</td><td>null</td><td>null</td><td>&quot;decouple&quot;</td><td>&quot;Squad/Parts/Co…</td><td>&quot;Coupling&quot;</td><td>&quot;0&quot;</td><td>&quot;/home/zeke/Sof…</td><td>&quot;Decoupler_1&quot;</td><td>null</td><td>0.1</td><td>0.04</td><td>null</td><td>null</td><td>null</td><td>null</td><td>null</td><td>&quot;/home/zeke/Sof…</td><td>&quot;http://0.0.0.0…</td><td>&quot;Squad&quot;</td><td>-1</td><td>&quot;Decoupler.1_1&quot;</td><td>null</td><td>&quot;Size1p5.Tank.0…</td><td>12.445403</td></tr><tr><td>2</td><td>&quot;FL-TX220 Fuel …</td><td>0.1375</td><td>220.0</td><td>6.0</td><td>2000</td><td>&quot;advRocketry&quot;</td><td>&quot;Jebediah Kerma…</td><td>&quot;Designed as an…</td><td>&quot;RoverDude&quot;</td><td>&quot;Part&quot;</td><td>1.0</td><td>null</td><td>null</td><td>1750</td><td>[1, 1, … 0]</td><td>null</td><td>null</td><td>null</td><td>&quot;default&quot;</td><td>0.2</td><td>0.3</td><td>2.0</td><td>[&quot;size1p5&quot;, &quot;srf&quot;]</td><td>null</td><td>null</td><td>null</td><td>null</td><td>null</td><td>null</td><td>null</td><td>null</td><td>null</td><td>null</td><td>-1</td><td>null</td><td>null</td><td>&hellip;</td><td>null</td><td>null</td><td>null</td><td>99.0</td><td>121.0</td><td>null</td><td>null</td><td>null</td><td>null</td><td>null</td><td>[0.0, 0.234375, … 2.0]</td><td>[0.0, -0.234375, … 2.0]</td><td>null</td><td>null</td><td>null</td><td>&quot;rocket fuel li…</td><td>&quot;SquadExpansion…</td><td>&quot;FuelTank&quot;</td><td>&quot;0&quot;</td><td>&quot;/home/zeke/Sof…</td><td>&quot;Size1p5_Tank_0…</td><td>null</td><td>0.46875</td><td>1.2375</td><td>null</td><td>null</td><td>null</td><td>null</td><td>null</td><td>&quot;/home/zeke/Sof…</td><td>&quot;http://0.0.0.0…</td><td>&quot;SquadExpansion…</td><td>0</td><td>&quot;Size1p5.Tank.0…</td><td>&quot;Decoupler.1_1&quot;</td><td>&quot;LiquidEngineLV…</td><td>12.161028</td></tr><tr><td>3</td><td>&quot;LV-T91 &quot;Cheeta…</td><td>1.0</td><td>850.0</td><td>7.0</td><td>2000</td><td>&quot;heavierRocketr…</td><td>&quot;Jebediah Kerma…</td><td>&quot;This engine wi…</td><td>&quot;RoverDude&quot;</td><td>&quot;Part&quot;</td><td>1.0</td><td>0.0</td><td>125.0</td><td>3400</td><td>[1, 1, … 0]</td><td>null</td><td>null</td><td>null</td><td>&quot;default&quot;</td><td>0.2</td><td>0.3</td><td>2.0</td><td>[&quot;size1p5&quot;, &quot;srf&quot;]</td><td>&quot;gimbal&quot;</td><td>4.0</td><td>20.0</td><td>true</td><td>&quot;Shroud1p5x2,Sh…</td><td>&quot;bottom&quot;</td><td>true</td><td>0.1</td><td>5.0</td><td>[0, 0, 1]</td><td>-1</td><td>5.0</td><td>null</td><td>&hellip;</td><td>null</td><td>null</td><td>null</td><td>null</td><td>null</td><td>null</td><td>null</td><td>null</td><td>null</td><td>[&quot;LiquidFuel&quot;, &quot;Oxidizer&quot;]</td><td>[0.0, 0.84028, … 2.0]</td><td>[0.0, -1.2, … 2.0]</td><td>[-1.635, -1.66]</td><td>150.0</td><td>355.0</td><td>&quot;rocket liquid …</td><td>null</td><td>&quot;Engine&quot;</td><td>&quot;0&quot;</td><td>&quot;/home/zeke/Sof…</td><td>&quot;LiquidEngineLV…</td><td>125.0</td><td>2.47528</td><td>1.0</td><td>125.0</td><td>355.0</td><td>355.0</td><td>150.0</td><td>150.0</td><td>&quot;/home/zeke/Sof…</td><td>&quot;http://0.0.0.0…</td><td>&quot;SquadExpansion…</td><td>0</td><td>&quot;LiquidEngineLV…</td><td>&quot;Size1p5.Tank.0…</td><td>&quot;Decoupler.1_4&quot;</td><td>11.086373</td></tr><tr><td>4</td><td>&quot;TD-12 Decouple…</td><td>0.04</td><td>200.0</td><td>6.0</td><td>2000</td><td>&quot;engineering101…</td><td>&quot;O.M.B. Demolit…</td><td>&quot;The TD-12 Stac…</td><td>&quot;RoverDude&quot;</td><td>&quot;Part&quot;</td><td>1.0</td><td>null</td><td>null</td><td>1600</td><td>[1, 0, … 0]</td><td>null</td><td>null</td><td>null</td><td>&quot;default&quot;</td><td>0.2</td><td>0.2</td><td>2.0</td><td>[&quot;size1&quot;]</td><td>null</td><td>null</td><td>null</td><td>null</td><td>null</td><td>null</td><td>null</td><td>null</td><td>null</td><td>null</td><td>260</td><td>null</td><td>null</td><td>&hellip;</td><td>null</td><td>null</td><td>null</td><td>null</td><td>null</td><td>null</td><td>null</td><td>null</td><td>null</td><td>null</td><td>[0.0, 0.05, … 1.0]</td><td>[0.0, -0.05, … 1.0]</td><td>null</td><td>null</td><td>null</td><td>&quot;decouple&quot;</td><td>&quot;Squad/Parts/Co…</td><td>&quot;Coupling&quot;</td><td>&quot;0&quot;</td><td>&quot;/home/zeke/Sof…</td><td>&quot;Decoupler_1&quot;</td><td>null</td><td>0.1</td><td>0.04</td><td>null</td><td>null</td><td>null</td><td>null</td><td>null</td><td>&quot;/home/zeke/Sof…</td><td>&quot;http://0.0.0.0…</td><td>&quot;Squad&quot;</td><td>0</td><td>&quot;Decoupler.1_4&quot;</td><td>&quot;LiquidEngineLV…</td><td>&quot;Size1p5.Size2.…</td><td>9.401373</td></tr><tr><td>5</td><td>&quot;FL-A215 Fuel T…</td><td>0.75</td><td>1200.0</td><td>10.0</td><td>2000</td><td>&quot;fuelSystems&quot;</td><td>&quot;Jebediah Kerma…</td><td>&quot;These fuel-fil…</td><td>&quot;Pablo&quot;</td><td>&quot;Part&quot;</td><td>1.0</td><td>null</td><td>null</td><td>5100</td><td>[1, 0, … 0]</td><td>null</td><td>null</td><td>null</td><td>&quot;default&quot;</td><td>0.2</td><td>0.3</td><td>2.0</td><td>[&quot;size1p5&quot;, &quot;size2&quot;, &quot;srf&quot;]</td><td>null</td><td>null</td><td>null</td><td>null</td><td>null</td><td>null</td><td>null</td><td>null</td><td>null</td><td>null</td><td>null</td><td>null</td><td>null</td><td>&hellip;</td><td>null</td><td>null</td><td>null</td><td>540.0</td><td>660.0</td><td>null</td><td>null</td><td>null</td><td>null</td><td>null</td><td>[0.0, 0.9375, … 2.0]</td><td>[0.0, -0.9375, … 2.0]</td><td>null</td><td>null</td><td>null</td><td>&quot;rocket fuel li…</td><td>&quot;SquadExpansion…</td><td>&quot;FuelTank&quot;</td><td>&quot;0&quot;</td><td>&quot;/home/zeke/Sof…</td><td>&quot;Size1p5_Size2_…</td><td>null</td><td>1.875</td><td>6.75</td><td>null</td><td>null</td><td>null</td><td>null</td><td>null</td><td>&quot;/home/zeke/Sof…</td><td>&quot;http://0.0.0.0…</td><td>&quot;SquadExpansion…</td><td>1</td><td>&quot;Size1p5.Size2.…</td><td>&quot;Decoupler.1_4&quot;</td><td>&quot;Rockomax8BW_6&quot;</td><td>8.413873</td></tr><tr><td>&hellip;</td><td>&hellip;</td><td>&hellip;</td><td>&hellip;</td><td>&hellip;</td><td>&hellip;</td><td>&hellip;</td><td>&hellip;</td><td>&hellip;</td><td>&hellip;</td><td>&hellip;</td><td>&hellip;</td><td>&hellip;</td><td>&hellip;</td><td>&hellip;</td><td>&hellip;</td><td>&hellip;</td><td>&hellip;</td><td>&hellip;</td><td>&hellip;</td><td>&hellip;</td><td>&hellip;</td><td>&hellip;</td><td>&hellip;</td><td>&hellip;</td><td>&hellip;</td><td>&hellip;</td><td>&hellip;</td><td>&hellip;</td><td>&hellip;</td><td>&hellip;</td><td>&hellip;</td><td>&hellip;</td><td>&hellip;</td><td>&hellip;</td><td>&hellip;</td><td>&hellip;</td><td>&hellip;</td><td>&hellip;</td><td>&hellip;</td><td>&hellip;</td><td>&hellip;</td><td>&hellip;</td><td>&hellip;</td><td>&hellip;</td><td>&hellip;</td><td>&hellip;</td><td>&hellip;</td><td>&hellip;</td><td>&hellip;</td><td>&hellip;</td><td>&hellip;</td><td>&hellip;</td><td>&hellip;</td><td>&hellip;</td><td>&hellip;</td><td>&hellip;</td><td>&hellip;</td><td>&hellip;</td><td>&hellip;</td><td>&hellip;</td><td>&hellip;</td><td>&hellip;</td><td>&hellip;</td><td>&hellip;</td><td>&hellip;</td><td>&hellip;</td><td>&hellip;</td><td>&hellip;</td><td>&hellip;</td><td>&hellip;</td><td>&hellip;</td><td>&hellip;</td><td>&hellip;</td><td>&hellip;</td></tr><tr><td>11</td><td>&quot;Rockomax X200-…</td><td>0.5</td><td>800.0</td><td>6.0</td><td>2000</td><td>&quot;fuelSystems&quot;</td><td>&quot;Rockomax Congl…</td><td>&quot;A compact fuel…</td><td>&quot;yes&quot;</td><td>&quot;Part&quot;</td><td>1.0</td><td>null</td><td>null</td><td>5200</td><td>[1, 1, … 0]</td><td>null</td><td>null</td><td>null</td><td>&quot;default&quot;</td><td>0.2</td><td>0.3</td><td>2.0</td><td>[&quot;size2&quot;, &quot;srf&quot;]</td><td>null</td><td>null</td><td>null</td><td>null</td><td>null</td><td>null</td><td>null</td><td>null</td><td>null</td><td>null</td><td>null</td><td>null</td><td>null</td><td>&hellip;</td><td>null</td><td>null</td><td>null</td><td>360.0</td><td>440.0</td><td>null</td><td>null</td><td>null</td><td>null</td><td>null</td><td>[0.0, 0.455, … 2.0]</td><td>[0.0, -0.455, … 2.0]</td><td>null</td><td>null</td><td>null</td><td>&quot;fueltank ?lfo …</td><td>&quot;Squad/Parts/Fu…</td><td>&quot;FuelTank&quot;</td><td>&quot;0&quot;</td><td>&quot;/home/zeke/Sof…</td><td>&quot;Rockomax8BW&quot;</td><td>null</td><td>0.91</td><td>4.5</td><td>null</td><td>null</td><td>null</td><td>null</td><td>null</td><td>&quot;/home/zeke/Sof…</td><td>&quot;http://0.0.0.0…</td><td>&quot;Squad&quot;</td><td>1</td><td>&quot;Rockomax8BW_11…</td><td>&quot;Rockomax8BW_10…</td><td>&quot;Rockomax8BW_12…</td><td>2.471373</td></tr><tr><td>12</td><td>&quot;Rockomax X200-…</td><td>0.5</td><td>800.0</td><td>6.0</td><td>2000</td><td>&quot;fuelSystems&quot;</td><td>&quot;Rockomax Congl…</td><td>&quot;A compact fuel…</td><td>&quot;yes&quot;</td><td>&quot;Part&quot;</td><td>1.0</td><td>null</td><td>null</td><td>5200</td><td>[1, 1, … 0]</td><td>null</td><td>null</td><td>null</td><td>&quot;default&quot;</td><td>0.2</td><td>0.3</td><td>2.0</td><td>[&quot;size2&quot;, &quot;srf&quot;]</td><td>null</td><td>null</td><td>null</td><td>null</td><td>null</td><td>null</td><td>null</td><td>null</td><td>null</td><td>null</td><td>null</td><td>null</td><td>null</td><td>&hellip;</td><td>null</td><td>null</td><td>null</td><td>360.0</td><td>440.0</td><td>null</td><td>null</td><td>null</td><td>null</td><td>null</td><td>[0.0, 0.455, … 2.0]</td><td>[0.0, -0.455, … 2.0]</td><td>null</td><td>null</td><td>null</td><td>&quot;fueltank ?lfo …</td><td>&quot;Squad/Parts/Fu…</td><td>&quot;FuelTank&quot;</td><td>&quot;0&quot;</td><td>&quot;/home/zeke/Sof…</td><td>&quot;Rockomax8BW&quot;</td><td>null</td><td>0.91</td><td>4.5</td><td>null</td><td>null</td><td>null</td><td>null</td><td>null</td><td>&quot;/home/zeke/Sof…</td><td>&quot;http://0.0.0.0…</td><td>&quot;Squad&quot;</td><td>1</td><td>&quot;Rockomax8BW_12…</td><td>&quot;Rockomax8BW_11…</td><td>&quot;Rockomax8BW_13…</td><td>1.561373</td></tr><tr><td>13</td><td>&quot;Rockomax X200-…</td><td>0.5</td><td>800.0</td><td>6.0</td><td>2000</td><td>&quot;fuelSystems&quot;</td><td>&quot;Rockomax Congl…</td><td>&quot;A compact fuel…</td><td>&quot;yes&quot;</td><td>&quot;Part&quot;</td><td>1.0</td><td>null</td><td>null</td><td>5200</td><td>[1, 1, … 0]</td><td>null</td><td>null</td><td>null</td><td>&quot;default&quot;</td><td>0.2</td><td>0.3</td><td>2.0</td><td>[&quot;size2&quot;, &quot;srf&quot;]</td><td>null</td><td>null</td><td>null</td><td>null</td><td>null</td><td>null</td><td>null</td><td>null</td><td>null</td><td>null</td><td>null</td><td>null</td><td>null</td><td>&hellip;</td><td>null</td><td>null</td><td>null</td><td>360.0</td><td>440.0</td><td>null</td><td>null</td><td>null</td><td>null</td><td>null</td><td>[0.0, 0.455, … 2.0]</td><td>[0.0, -0.455, … 2.0]</td><td>null</td><td>null</td><td>null</td><td>&quot;fueltank ?lfo …</td><td>&quot;Squad/Parts/Fu…</td><td>&quot;FuelTank&quot;</td><td>&quot;0&quot;</td><td>&quot;/home/zeke/Sof…</td><td>&quot;Rockomax8BW&quot;</td><td>null</td><td>0.91</td><td>4.5</td><td>null</td><td>null</td><td>null</td><td>null</td><td>null</td><td>&quot;/home/zeke/Sof…</td><td>&quot;http://0.0.0.0…</td><td>&quot;Squad&quot;</td><td>1</td><td>&quot;Rockomax8BW_13…</td><td>&quot;Rockomax8BW_12…</td><td>&quot;Rockomax8BW_14…</td><td>0.651373</td></tr><tr><td>14</td><td>&quot;Rockomax X200-…</td><td>0.5</td><td>800.0</td><td>6.0</td><td>2000</td><td>&quot;fuelSystems&quot;</td><td>&quot;Rockomax Congl…</td><td>&quot;A compact fuel…</td><td>&quot;yes&quot;</td><td>&quot;Part&quot;</td><td>1.0</td><td>null</td><td>null</td><td>5200</td><td>[1, 1, … 0]</td><td>null</td><td>null</td><td>null</td><td>&quot;default&quot;</td><td>0.2</td><td>0.3</td><td>2.0</td><td>[&quot;size2&quot;, &quot;srf&quot;]</td><td>null</td><td>null</td><td>null</td><td>null</td><td>null</td><td>null</td><td>null</td><td>null</td><td>null</td><td>null</td><td>null</td><td>null</td><td>null</td><td>&hellip;</td><td>null</td><td>null</td><td>null</td><td>360.0</td><td>440.0</td><td>null</td><td>null</td><td>null</td><td>null</td><td>null</td><td>[0.0, 0.455, … 2.0]</td><td>[0.0, -0.455, … 2.0]</td><td>null</td><td>null</td><td>null</td><td>&quot;fueltank ?lfo …</td><td>&quot;Squad/Parts/Fu…</td><td>&quot;FuelTank&quot;</td><td>&quot;0&quot;</td><td>&quot;/home/zeke/Sof…</td><td>&quot;Rockomax8BW&quot;</td><td>null</td><td>0.91</td><td>4.5</td><td>null</td><td>null</td><td>null</td><td>null</td><td>null</td><td>&quot;/home/zeke/Sof…</td><td>&quot;http://0.0.0.0…</td><td>&quot;Squad&quot;</td><td>1</td><td>&quot;Rockomax8BW_14…</td><td>&quot;Rockomax8BW_13…</td><td>&quot;SSME_15&quot;</td><td>-0.258627</td></tr><tr><td>15</td><td>&quot;S3 KS-25 &quot;Vect…</td><td>4.0</td><td>18000.0</td><td>22.0</td><td>2000</td><td>&quot;veryHeavyRocke…</td><td>&quot;Kerbodyne&quot;</td><td>&quot;Kerbodyne&#x27;s fl…</td><td>&quot;Porkjet&quot;</td><td>&quot;Part&quot;</td><td>1.0</td><td>0.0</td><td>1000.0</td><td>115000</td><td>[1, 1, … 0]</td><td>null</td><td>null</td><td>0.8</td><td>&quot;default&quot;</td><td>0.2</td><td>0.2</td><td>2.0</td><td>[&quot;srf&quot;, &quot;size1&quot;]</td><td>&quot;Nozzle&quot;</td><td>10.5</td><td>8.0</td><td>true</td><td>&quot;Fairing&quot;</td><td>&quot;bottom&quot;</td><td>true</td><td>0.1</td><td>5.0</td><td>[0, 0, 1]</td><td>null</td><td>3.0</td><td>null</td><td>&hellip;</td><td>null</td><td>null</td><td>null</td><td>null</td><td>null</td><td>null</td><td>null</td><td>null</td><td>null</td><td>[&quot;LiquidFuel&quot;, &quot;Oxidizer&quot;]</td><td>[0.0, 0.0, … 1.0]</td><td>[0.0, -1.6, … 1.0]</td><td>null</td><td>295.0</td><td>315.0</td><td>&quot;ascent main pr…</td><td>null</td><td>&quot;Engine&quot;</td><td>&quot;0&quot;</td><td>&quot;/home/zeke/Sof…</td><td>&quot;SSME&quot;</td><td>250.0</td><td>1.6</td><td>4.0</td><td>250.0</td><td>78.75</td><td>78.75</td><td>73.75</td><td>73.75</td><td>&quot;/home/zeke/Sof…</td><td>&quot;http://0.0.0.0…</td><td>&quot;Squad&quot;</td><td>1</td><td>&quot;SSME_15&quot;</td><td>&quot;Rockomax8BW_14…</td><td>null</td><td>-0.713627</td></tr></tbody></table></div>"
      ],
      "text/plain": [
       "shape: (15, 94)\n",
       "┌─────┬─────────────┬──────────┬─────────┬───┬─────────────┬─────────────┬─────────────┬───────────┐\n",
       "│ id  ┆ title       ┆ dry_mass ┆ cost    ┆ … ┆ part_id     ┆ prev_part_i ┆ next_part_i ┆ height    │\n",
       "│ --- ┆ ---         ┆ ---      ┆ ---     ┆   ┆ ---         ┆ d           ┆ d           ┆ ---       │\n",
       "│ u32 ┆ str         ┆ f64      ┆ f64     ┆   ┆ str         ┆ ---         ┆ ---         ┆ f64       │\n",
       "│     ┆             ┆          ┆         ┆   ┆             ┆ str         ┆ str         ┆           │\n",
       "╞═════╪═════════════╪══════════╪═════════╪═══╪═════════════╪═════════════╪═════════════╪═══════════╡\n",
       "│ 1   ┆ TD-12       ┆ 0.04     ┆ 200.0   ┆ … ┆ Decoupler.1 ┆ null        ┆ Size1p5.Tan ┆ 12.445403 │\n",
       "│     ┆ Decoupler   ┆          ┆         ┆   ┆ _1          ┆             ┆ k.01_2      ┆           │\n",
       "│ 2   ┆ FL-TX220    ┆ 0.1375   ┆ 220.0   ┆ … ┆ Size1p5.Tan ┆ Decoupler.1 ┆ LiquidEngin ┆ 12.161028 │\n",
       "│     ┆ Fuel Tank   ┆          ┆         ┆   ┆ k.01_2      ┆ _1          ┆ eLV-T91_3   ┆           │\n",
       "│ 3   ┆ LV-T91      ┆ 1.0      ┆ 850.0   ┆ … ┆ LiquidEngin ┆ Size1p5.Tan ┆ Decoupler.1 ┆ 11.086373 │\n",
       "│     ┆ \"Cheetah\"   ┆          ┆         ┆   ┆ eLV-T91_3   ┆ k.01_2      ┆ _4          ┆           │\n",
       "│     ┆ Liquid Fuel ┆          ┆         ┆   ┆             ┆             ┆             ┆           │\n",
       "│     ┆ Eng…        ┆          ┆         ┆   ┆             ┆             ┆             ┆           │\n",
       "│ 4   ┆ TD-12       ┆ 0.04     ┆ 200.0   ┆ … ┆ Decoupler.1 ┆ LiquidEngin ┆ Size1p5.Siz ┆ 9.401373  │\n",
       "│     ┆ Decoupler   ┆          ┆         ┆   ┆ _4          ┆ eLV-T91_3   ┆ e2.Adapter. ┆           │\n",
       "│     ┆             ┆          ┆         ┆   ┆             ┆             ┆ 01_5        ┆           │\n",
       "│ 5   ┆ FL-A215     ┆ 0.75     ┆ 1200.0  ┆ … ┆ Size1p5.Siz ┆ Decoupler.1 ┆ Rockomax8BW ┆ 8.413873  │\n",
       "│     ┆ Fuel Tank   ┆          ┆         ┆   ┆ e2.Adapter. ┆ _4          ┆ _6          ┆           │\n",
       "│     ┆ Adapter     ┆          ┆         ┆   ┆ 01_5        ┆             ┆             ┆           │\n",
       "│ …   ┆ …           ┆ …        ┆ …       ┆ … ┆ …           ┆ …           ┆ …           ┆ …         │\n",
       "│ 11  ┆ Rockomax    ┆ 0.5      ┆ 800.0   ┆ … ┆ Rockomax8BW ┆ Rockomax8BW ┆ Rockomax8BW ┆ 2.471373  │\n",
       "│     ┆ X200-8 Fuel ┆          ┆         ┆   ┆ _11         ┆ _10         ┆ _12         ┆           │\n",
       "│     ┆ Tank        ┆          ┆         ┆   ┆             ┆             ┆             ┆           │\n",
       "│ 12  ┆ Rockomax    ┆ 0.5      ┆ 800.0   ┆ … ┆ Rockomax8BW ┆ Rockomax8BW ┆ Rockomax8BW ┆ 1.561373  │\n",
       "│     ┆ X200-8 Fuel ┆          ┆         ┆   ┆ _12         ┆ _11         ┆ _13         ┆           │\n",
       "│     ┆ Tank        ┆          ┆         ┆   ┆             ┆             ┆             ┆           │\n",
       "│ 13  ┆ Rockomax    ┆ 0.5      ┆ 800.0   ┆ … ┆ Rockomax8BW ┆ Rockomax8BW ┆ Rockomax8BW ┆ 0.651373  │\n",
       "│     ┆ X200-8 Fuel ┆          ┆         ┆   ┆ _13         ┆ _12         ┆ _14         ┆           │\n",
       "│     ┆ Tank        ┆          ┆         ┆   ┆             ┆             ┆             ┆           │\n",
       "│ 14  ┆ Rockomax    ┆ 0.5      ┆ 800.0   ┆ … ┆ Rockomax8BW ┆ Rockomax8BW ┆ SSME_15     ┆ -0.258627 │\n",
       "│     ┆ X200-8 Fuel ┆          ┆         ┆   ┆ _14         ┆ _13         ┆             ┆           │\n",
       "│     ┆ Tank        ┆          ┆         ┆   ┆             ┆             ┆             ┆           │\n",
       "│ 15  ┆ S3 KS-25    ┆ 4.0      ┆ 18000.0 ┆ … ┆ SSME_15     ┆ Rockomax8BW ┆ null        ┆ -0.713627 │\n",
       "│     ┆ \"Vector\"    ┆          ┆         ┆   ┆             ┆ _14         ┆             ┆           │\n",
       "│     ┆ Liquid Fuel ┆          ┆         ┆   ┆             ┆             ┆             ┆           │\n",
       "│     ┆ En…         ┆          ┆         ┆   ┆             ┆             ┆             ┆           │\n",
       "└─────┴─────────────┴──────────┴─────────┴───┴─────────────┴─────────────┴─────────────┴───────────┘"
      ]
     },
     "metadata": {},
     "output_type": "display_data"
    },
    {
     "data": {
      "text/plain": [
       "['Decoupler_1',\n",
       " 'Size1p5_Tank_01',\n",
       " 'LiquidEngineLV-T91',\n",
       " 'Decoupler_1',\n",
       " 'Size1p5_Size2_Adapter_01',\n",
       " 'Rockomax8BW',\n",
       " 'Rockomax8BW',\n",
       " 'Rockomax8BW',\n",
       " 'Rockomax8BW',\n",
       " 'Rockomax8BW',\n",
       " 'Rockomax8BW',\n",
       " 'Rockomax8BW',\n",
       " 'Rockomax8BW',\n",
       " 'Rockomax8BW',\n",
       " 'SSME']"
      ]
     },
     "metadata": {},
     "output_type": "display_data"
    },
    {
     "data": {
      "text/plain": [
       "['TD-12 Decoupler',\n",
       " 'FL-TX220 Fuel Tank',\n",
       " 'LV-T91 \"Cheetah\" Liquid Fuel Engine',\n",
       " 'TD-12 Decoupler',\n",
       " 'FL-A215 Fuel Tank Adapter',\n",
       " 'Rockomax X200-8 Fuel Tank',\n",
       " 'Rockomax X200-8 Fuel Tank',\n",
       " 'Rockomax X200-8 Fuel Tank',\n",
       " 'Rockomax X200-8 Fuel Tank',\n",
       " 'Rockomax X200-8 Fuel Tank',\n",
       " 'Rockomax X200-8 Fuel Tank',\n",
       " 'Rockomax X200-8 Fuel Tank',\n",
       " 'Rockomax X200-8 Fuel Tank',\n",
       " 'Rockomax X200-8 Fuel Tank',\n",
       " 'S3 KS-25 \"Vector\" Liquid Fuel Engine']"
      ]
     },
     "metadata": {},
     "output_type": "display_data"
    },
    {
     "data": {
      "text/plain": [
       "[12.445403097,\n",
       " 12.161028096999999,\n",
       " 11.086373097,\n",
       " 9.401373096999999,\n",
       " 8.413873096999998,\n",
       " 7.021373096999998,\n",
       " 6.111373096999998,\n",
       " 5.201373096999998,\n",
       " 4.2913730969999975,\n",
       " 3.3813730969999973,\n",
       " 2.471373096999997,\n",
       " 1.561373096999997,\n",
       " 0.6513730969999969,\n",
       " -0.2586269030000031,\n",
       " -0.7136269030000031]"
      ]
     },
     "metadata": {},
     "output_type": "display_data"
    }
   ],
   "source": [
    "# generate_booster_save(df, test_save)\n",
    "# generate_booster_save(df, '/home/zeke/Software/KSP_linux/saves/TESTING_ONLY/Ships/VAB/TEST PARTS New.craft')\n",
    "generate_booster_save(df, '/home/zeke/Software/KSP_linux/saves/TESTING_ONLY/Ships/VAB/Actual Test.craft')"
   ]
  },
  {
   "cell_type": "code",
   "execution_count": 390,
   "metadata": {},
   "outputs": [
    {
     "data": {
      "text/html": [
       "<div><style>\n",
       ".dataframe > thead > tr,\n",
       ".dataframe > tbody > tr {\n",
       "  text-align: right;\n",
       "  white-space: pre-wrap;\n",
       "}\n",
       "</style>\n",
       "<small>shape: (1, 88)</small><table border=\"1\" class=\"dataframe\"><thead><tr><th>title</th><th>dry_mass</th><th>cost</th><th>crashTolerance</th><th>maxTemp</th><th>techLevel</th><th>manufacturer</th><th>description</th><th>author</th><th>module</th><th>rescaleFactor</th><th>minThrust</th><th>maxThrust</th><th>entryCost</th><th>attachRules</th><th>heatConductivity</th><th>skinInternalConductionMult</th><th>emissiveConstant</th><th>dragModelType</th><th>maximumDrag</th><th>minimumDrag</th><th>angularDrag</th><th>diameter</th><th>gimbalTransformName</th><th>gimbalRange</th><th>gimbalResponseSpeed</th><th>useGimbalResponseSpeed</th><th>jettisonName</th><th>bottomNodeName</th><th>isFairing</th><th>jettisonedObjectMass</th><th>jettisonForce</th><th>jettisonDirection</th><th>packedVolume</th><th>alternatorRate</th><th>experimentID</th><th>experimentActionName</th><th>&hellip;</th><th>heatProduction</th><th>exhaustDamageDistanceOffset</th><th>maxLiquidFuel</th><th>maxOxidizer</th><th>maxOre</th><th>maxElectricCharge</th><th>maxIntakeAir</th><th>maxMonoPropellant</th><th>defaultLiquidFuel</th><th>defaultOxidizer</th><th>defaultOre</th><th>defaultElectricCharge</th><th>defaultIntakeAir</th><th>defaultMonoPropellant</th><th>propellants</th><th>node_stack_top</th><th>node_stack_bottom</th><th>variant_y_offsets</th><th>ISP_atm</th><th>ISP_vac</th><th>tags</th><th>model_path</th><th>category</th><th>subcategory</th><th>path</th><th>name</th><th>TWR_dry</th><th>est_height</th><th>wet_mass</th><th>TWR_wet</th><th>ISP_vac_WR_dry</th><th>ISP_vac_WR_wet</th><th>ISP_atm_WR_dry</th><th>ISP_atm_WR_wet</th><th>icon_path</th><th>icon_url</th><th>provider</th></tr><tr><td>str</td><td>f64</td><td>f64</td><td>f64</td><td>i64</td><td>str</td><td>str</td><td>str</td><td>str</td><td>str</td><td>f64</td><td>f64</td><td>f64</td><td>i64</td><td>list[i64]</td><td>f64</td><td>f64</td><td>f64</td><td>str</td><td>f64</td><td>f64</td><td>f64</td><td>list[str]</td><td>str</td><td>f64</td><td>f64</td><td>bool</td><td>str</td><td>str</td><td>bool</td><td>f64</td><td>f64</td><td>list[i64]</td><td>i64</td><td>f64</td><td>str</td><td>str</td><td>&hellip;</td><td>f64</td><td>f64</td><td>f64</td><td>f64</td><td>f64</td><td>f64</td><td>f64</td><td>f64</td><td>f64</td><td>f64</td><td>f64</td><td>f64</td><td>f64</td><td>f64</td><td>list[str]</td><td>list[f64]</td><td>list[f64]</td><td>list[f64]</td><td>f64</td><td>f64</td><td>str</td><td>str</td><td>str</td><td>str</td><td>str</td><td>str</td><td>f64</td><td>f64</td><td>f64</td><td>f64</td><td>f64</td><td>f64</td><td>f64</td><td>f64</td><td>str</td><td>str</td><td>str</td></tr></thead><tbody><tr><td>&quot;RV-1 &quot;Cub&quot; Ver…</td><td>0.18</td><td>800.0</td><td>7.0</td><td>2000</td><td>&quot;precisionPropu…</td><td>&quot;Reaction Syste…</td><td>&quot;Mew! These lit…</td><td>&quot;RoverDude&quot;</td><td>&quot;Part&quot;</td><td>1.0</td><td>0.0</td><td>32.0</td><td>3200</td><td>[0, 1, … 0]</td><td>null</td><td>null</td><td>null</td><td>&quot;default&quot;</td><td>0.2</td><td>0.3</td><td>2.0</td><td>[&quot;size0&quot;, &quot;srf&quot;]</td><td>&quot;Gimbal&quot;</td><td>22.5</td><td>null</td><td>true</td><td>null</td><td>null</td><td>null</td><td>null</td><td>null</td><td>null</td><td>170</td><td>null</td><td>null</td><td>null</td><td>&hellip;</td><td>150.0</td><td>0.15</td><td>null</td><td>null</td><td>null</td><td>null</td><td>null</td><td>null</td><td>null</td><td>null</td><td>null</td><td>null</td><td>null</td><td>null</td><td>[&quot;LiquidFuel&quot;, &quot;Oxidizer&quot;]</td><td>null</td><td>null</td><td>null</td><td>280.0</td><td>310.0</td><td>&quot;rocket liquid …</td><td>&quot;SquadExpansion…</td><td>&quot;Engine&quot;</td><td>&quot;0&quot;</td><td>&quot;/home/zeke/Sof…</td><td>&quot;LiquidEngineRV…</td><td>177.777778</td><td>null</td><td>0.18</td><td>177.777778</td><td>1722.222222</td><td>1722.222222</td><td>1555.555556</td><td>1555.555556</td><td>&quot;/home/zeke/Sof…</td><td>&quot;http://0.0.0.0…</td><td>&quot;SquadExpansion…</td></tr></tbody></table></div>"
      ],
      "text/plain": [
       "shape: (1, 88)\n",
       "┌────────────┬──────────┬───────┬────────────┬───┬────────────┬────────────┬───────────┬───────────┐\n",
       "│ title      ┆ dry_mass ┆ cost  ┆ crashToler ┆ … ┆ ISP_atm_WR ┆ icon_path  ┆ icon_url  ┆ provider  │\n",
       "│ ---        ┆ ---      ┆ ---   ┆ ance       ┆   ┆ _wet       ┆ ---        ┆ ---       ┆ ---       │\n",
       "│ str        ┆ f64      ┆ f64   ┆ ---        ┆   ┆ ---        ┆ str        ┆ str       ┆ str       │\n",
       "│            ┆          ┆       ┆ f64        ┆   ┆ f64        ┆            ┆           ┆           │\n",
       "╞════════════╪══════════╪═══════╪════════════╪═══╪════════════╪════════════╪═══════════╪═══════════╡\n",
       "│ RV-1 \"Cub\" ┆ 0.18     ┆ 800.0 ┆ 7.0        ┆ … ┆ 1555.55555 ┆ /home/zeke ┆ http://0. ┆ SquadExpa │\n",
       "│ Vernier    ┆          ┆       ┆            ┆   ┆ 6          ┆ /Software/ ┆ 0.0.0:800 ┆ nsion     │\n",
       "│ Engine     ┆          ┆       ┆            ┆   ┆            ┆ KSP_linux/ ┆ 0/SquadEx ┆           │\n",
       "│            ┆          ┆       ┆            ┆   ┆            ┆ Ga…        ┆ pansi…    ┆           │\n",
       "└────────────┴──────────┴───────┴────────────┴───┴────────────┴────────────┴───────────┴───────────┘"
      ]
     },
     "execution_count": 390,
     "metadata": {},
     "output_type": "execute_result"
    }
   ],
   "source": [
    "df.filter(c('title') == 'RV-1 \"Cub\" Vernier Engine')"
   ]
  },
  {
   "cell_type": "code",
   "execution_count": 315,
   "metadata": {},
   "outputs": [
    {
     "data": {
      "text/plain": [
       "24"
      ]
     },
     "execution_count": 315,
     "metadata": {},
     "output_type": "execute_result"
    }
   ],
   "source": [
    "len(df['name']) - len(set(df['name']))"
   ]
  },
  {
   "cell_type": "code",
   "execution_count": 317,
   "metadata": {},
   "outputs": [
    {
     "data": {
      "text/plain": [
       "24"
      ]
     },
     "execution_count": 317,
     "metadata": {},
     "output_type": "execute_result"
    }
   ],
   "source": [
    "len(df) -len(df.group_by('name').agg(pl.first()))"
   ]
  },
  {
   "cell_type": "code",
   "execution_count": 257,
   "metadata": {},
   "outputs": [],
   "source": [
    "stack = df.filter((~pl.col('node_stack_top').is_null()) & (~pl.col('node_stack_bottom').is_null())).sample(10)"
   ]
  },
  {
   "cell_type": "code",
   "execution_count": 261,
   "metadata": {},
   "outputs": [
    {
     "data": {
      "text/plain": [
       "[100.1108553,\n",
       " 101.049,\n",
       " 100.8,\n",
       " 98.213,\n",
       " 98.493,\n",
       " 99.705,\n",
       " 99.46699999999998,\n",
       " 98.437,\n",
       " 98.837,\n",
       " 99.4136]"
      ]
     },
     "execution_count": 261,
     "metadata": {},
     "output_type": "execute_result"
    }
   ],
   "source": [
    "y = 100\n",
    "heights = []\n",
    "for i in stack.iter_rows(named=True):\n",
    "    y += i['node_stack_top'][1]\n",
    "    heights.append(y)\n",
    "    y += i['node_stack_bottom'][1]\n",
    "heights"
   ]
  },
  {
   "cell_type": "code",
   "execution_count": 236,
   "metadata": {},
   "outputs": [
    {
     "name": "stdout",
     "output_type": "stream",
     "text": [
      "[ 0.        -0.3624998  0.       ]\n",
      "[ 0.        -0.4874998  0.       ]\n"
     ]
    }
   ],
   "source": [
    "a = np.array((0.0416163057,14.079161097,-0.15590176))\n",
    "b = np.array((0.0416163057,14.4416609,-0.15590176))\n",
    "c = np.array((0.0416163057,14.5666609,-0.15590176))\n",
    "print(a - b)\n",
    "print(a - c)"
   ]
  },
  {
   "cell_type": "code",
   "execution_count": 53,
   "metadata": {},
   "outputs": [
    {
     "data": {
      "text/html": [
       "<div><style>\n",
       ".dataframe > thead > tr,\n",
       ".dataframe > tbody > tr {\n",
       "  text-align: right;\n",
       "  white-space: pre-wrap;\n",
       "}\n",
       "</style>\n",
       "<small>shape: (1, 87)</small><table border=\"1\" class=\"dataframe\"><thead><tr><th>title</th><th>dry_mass</th><th>cost</th><th>crashTolerance</th><th>maxTemp</th><th>techLevel</th><th>manufacturer</th><th>description</th><th>author</th><th>module</th><th>rescaleFactor</th><th>minThrust</th><th>maxThrust</th><th>entryCost</th><th>attachRules</th><th>heatConductivity</th><th>skinInternalConductionMult</th><th>emissiveConstant</th><th>dragModelType</th><th>maximumDrag</th><th>minimumDrag</th><th>angularDrag</th><th>diameter</th><th>gimbalTransformName</th><th>gimbalRange</th><th>gimbalResponseSpeed</th><th>useGimbalResponseSpeed</th><th>jettisonName</th><th>bottomNodeName</th><th>isFairing</th><th>jettisonedObjectMass</th><th>jettisonForce</th><th>jettisonDirection</th><th>packedVolume</th><th>alternatorRate</th><th>experimentID</th><th>experimentActionName</th><th>&hellip;</th><th>thrustVectorTransformName</th><th>heatProduction</th><th>exhaustDamageDistanceOffset</th><th>maxLiquidFuel</th><th>maxOxidizer</th><th>maxOre</th><th>maxElectricCharge</th><th>maxIntakeAir</th><th>maxMonoPropellant</th><th>defaultLiquidFuel</th><th>defaultOxidizer</th><th>defaultOre</th><th>defaultElectricCharge</th><th>defaultIntakeAir</th><th>defaultMonoPropellant</th><th>propellants</th><th>node_stack_top</th><th>node_stack_bottom</th><th>ISP_atm</th><th>ISP_vac</th><th>tags</th><th>model_path</th><th>category</th><th>subcategory</th><th>path</th><th>name</th><th>TWR_dry</th><th>est_height</th><th>wet_mass</th><th>TWR_wet</th><th>ISP_vac_WR_dry</th><th>ISP_vac_WR_wet</th><th>ISP_atm_WR_dry</th><th>ISP_atm_WR_wet</th><th>icon_path</th><th>icon_url</th><th>provider</th></tr><tr><td>str</td><td>f64</td><td>f64</td><td>f64</td><td>i64</td><td>str</td><td>str</td><td>str</td><td>str</td><td>str</td><td>f64</td><td>f64</td><td>f64</td><td>i64</td><td>list[i64]</td><td>f64</td><td>f64</td><td>f64</td><td>str</td><td>f64</td><td>f64</td><td>f64</td><td>list[str]</td><td>str</td><td>f64</td><td>f64</td><td>bool</td><td>str</td><td>str</td><td>bool</td><td>f64</td><td>f64</td><td>list[i64]</td><td>i64</td><td>f64</td><td>str</td><td>str</td><td>&hellip;</td><td>str</td><td>f64</td><td>f64</td><td>f64</td><td>f64</td><td>f64</td><td>f64</td><td>f64</td><td>f64</td><td>f64</td><td>f64</td><td>f64</td><td>f64</td><td>f64</td><td>f64</td><td>list[str]</td><td>list[f64]</td><td>list[f64]</td><td>f64</td><td>f64</td><td>str</td><td>str</td><td>str</td><td>str</td><td>str</td><td>str</td><td>f64</td><td>f64</td><td>f64</td><td>f64</td><td>f64</td><td>f64</td><td>f64</td><td>f64</td><td>str</td><td>str</td><td>str</td></tr></thead><tbody><tr><td>&quot;Kerbodyne S4-6…</td><td>4.0</td><td>6400.0</td><td>10.0</td><td>2000</td><td>&quot;highPerformanc…</td><td>&quot;Kerbodyne&quot;</td><td>&quot;Originally the…</td><td>&quot;Pablo&quot;</td><td>&quot;Part&quot;</td><td>1.0</td><td>null</td><td>null</td><td>25600</td><td>[1, 1, … 0]</td><td>null</td><td>null</td><td>null</td><td>&quot;default&quot;</td><td>0.2</td><td>0.3</td><td>2.0</td><td>[&quot;size4&quot;, &quot;srf&quot;]</td><td>null</td><td>null</td><td>null</td><td>null</td><td>null</td><td>null</td><td>null</td><td>null</td><td>null</td><td>null</td><td>null</td><td>null</td><td>null</td><td>null</td><td>&hellip;</td><td>null</td><td>null</td><td>null</td><td>2880.0</td><td>3520.0</td><td>null</td><td>null</td><td>null</td><td>null</td><td>2880.0</td><td>3520.0</td><td>null</td><td>null</td><td>null</td><td>null</td><td>null</td><td>[0.0, 0.9375, … 4.0]</td><td>[0.0, -0.9375, … 4.0]</td><td>null</td><td>null</td><td>&quot;rocket fuel li…</td><td>&quot;SquadExpansion…</td><td>&quot;FuelTank&quot;</td><td>&quot;0&quot;</td><td>&quot;/home/zeke/Sof…</td><td>&quot;Size4_Tank_01&quot;</td><td>null</td><td>1.875</td><td>36.0</td><td>null</td><td>null</td><td>null</td><td>null</td><td>null</td><td>&quot;/home/zeke/Sof…</td><td>&quot;http://0.0.0.0…</td><td>&quot;SquadExpansion…</td></tr></tbody></table></div>"
      ],
      "text/plain": [
       "shape: (1, 87)\n",
       "┌────────────┬──────────┬────────┬────────────┬───┬────────────┬───────────┬───────────┬───────────┐\n",
       "│ title      ┆ dry_mass ┆ cost   ┆ crashToler ┆ … ┆ ISP_atm_WR ┆ icon_path ┆ icon_url  ┆ provider  │\n",
       "│ ---        ┆ ---      ┆ ---    ┆ ance       ┆   ┆ _wet       ┆ ---       ┆ ---       ┆ ---       │\n",
       "│ str        ┆ f64      ┆ f64    ┆ ---        ┆   ┆ ---        ┆ str       ┆ str       ┆ str       │\n",
       "│            ┆          ┆        ┆ f64        ┆   ┆ f64        ┆           ┆           ┆           │\n",
       "╞════════════╪══════════╪════════╪════════════╪═══╪════════════╪═══════════╪═══════════╪═══════════╡\n",
       "│ Kerbodyne  ┆ 4.0      ┆ 6400.0 ┆ 10.0       ┆ … ┆ null       ┆ /home/zek ┆ http://0. ┆ SquadExpa │\n",
       "│ S4-64 Fuel ┆          ┆        ┆            ┆   ┆            ┆ e/Softwar ┆ 0.0.0:800 ┆ nsion     │\n",
       "│ Tank       ┆          ┆        ┆            ┆   ┆            ┆ e/KSP_lin ┆ 0/SquadEx ┆           │\n",
       "│            ┆          ┆        ┆            ┆   ┆            ┆ ux/Ga…    ┆ pansi…    ┆           │\n",
       "└────────────┴──────────┴────────┴────────────┴───┴────────────┴───────────┴───────────┴───────────┘"
      ]
     },
     "execution_count": 53,
     "metadata": {},
     "output_type": "execute_result"
    }
   ],
   "source": [
    "parts = df\n",
    "parts.filter(c('provider').str.contains('Squad')).filter(\n",
    "            c('diameter').list.contains('size4') &\n",
    "            (c('category') == 'FuelTank') &\n",
    "            (c('maxLiquidFuel') > 0) &\n",
    "            (c('maxOxidizer') > 0) &\n",
    "            (~c('title').is_in((\"R-12 'Doughnut' External Tank\",))) &\n",
    "            (~c('title').str.contains('(?i)adapter'))\n",
    "        ).sort('wet_mass')[0]"
   ]
  },
  {
   "cell_type": "code",
   "execution_count": 46,
   "metadata": {},
   "outputs": [
    {
     "data": {
      "text/html": [
       "<div><style>\n",
       ".dataframe > thead > tr,\n",
       ".dataframe > tbody > tr {\n",
       "  text-align: right;\n",
       "  white-space: pre-wrap;\n",
       "}\n",
       "</style>\n",
       "<small>shape: (1, 87)</small><table border=\"1\" class=\"dataframe\"><thead><tr><th>title</th><th>dry_mass</th><th>cost</th><th>crashTolerance</th><th>maxTemp</th><th>techLevel</th><th>manufacturer</th><th>description</th><th>author</th><th>module</th><th>rescaleFactor</th><th>minThrust</th><th>maxThrust</th><th>entryCost</th><th>attachRules</th><th>heatConductivity</th><th>skinInternalConductionMult</th><th>emissiveConstant</th><th>dragModelType</th><th>maximumDrag</th><th>minimumDrag</th><th>angularDrag</th><th>diameter</th><th>gimbalTransformName</th><th>gimbalRange</th><th>gimbalResponseSpeed</th><th>useGimbalResponseSpeed</th><th>jettisonName</th><th>bottomNodeName</th><th>isFairing</th><th>jettisonedObjectMass</th><th>jettisonForce</th><th>jettisonDirection</th><th>packedVolume</th><th>alternatorRate</th><th>experimentID</th><th>experimentActionName</th><th>&hellip;</th><th>thrustVectorTransformName</th><th>heatProduction</th><th>exhaustDamageDistanceOffset</th><th>maxLiquidFuel</th><th>maxOxidizer</th><th>maxOre</th><th>maxElectricCharge</th><th>maxIntakeAir</th><th>maxMonoPropellant</th><th>defaultLiquidFuel</th><th>defaultOxidizer</th><th>defaultOre</th><th>defaultElectricCharge</th><th>defaultIntakeAir</th><th>defaultMonoPropellant</th><th>propellants</th><th>node_stack_top</th><th>node_stack_bottom</th><th>ISP_atm</th><th>ISP_vac</th><th>tags</th><th>model_path</th><th>category</th><th>subcategory</th><th>path</th><th>name</th><th>TWR_dry</th><th>est_height</th><th>wet_mass</th><th>TWR_wet</th><th>ISP_vac_WR_dry</th><th>ISP_vac_WR_wet</th><th>ISP_atm_WR_dry</th><th>ISP_atm_WR_wet</th><th>icon_path</th><th>icon_url</th><th>provider</th></tr><tr><td>str</td><td>f64</td><td>f64</td><td>f64</td><td>i64</td><td>str</td><td>str</td><td>str</td><td>str</td><td>str</td><td>f64</td><td>f64</td><td>f64</td><td>i64</td><td>list[i64]</td><td>f64</td><td>f64</td><td>f64</td><td>str</td><td>f64</td><td>f64</td><td>f64</td><td>list[str]</td><td>str</td><td>f64</td><td>f64</td><td>bool</td><td>str</td><td>str</td><td>bool</td><td>f64</td><td>f64</td><td>list[i64]</td><td>i64</td><td>f64</td><td>str</td><td>str</td><td>&hellip;</td><td>str</td><td>f64</td><td>f64</td><td>f64</td><td>f64</td><td>f64</td><td>f64</td><td>f64</td><td>f64</td><td>f64</td><td>f64</td><td>f64</td><td>f64</td><td>f64</td><td>f64</td><td>list[str]</td><td>list[f64]</td><td>list[f64]</td><td>f64</td><td>f64</td><td>str</td><td>str</td><td>str</td><td>str</td><td>str</td><td>str</td><td>f64</td><td>f64</td><td>f64</td><td>f64</td><td>f64</td><td>f64</td><td>f64</td><td>f64</td><td>str</td><td>str</td><td>str</td></tr></thead><tbody><tr><td>&quot;TD-12 Decouple…</td><td>0.04</td><td>200.0</td><td>6.0</td><td>2000</td><td>&quot;engineering101…</td><td>&quot;O.M.B. Demolit…</td><td>&quot;The TD-12 Stac…</td><td>&quot;RoverDude&quot;</td><td>&quot;Part&quot;</td><td>1.0</td><td>null</td><td>null</td><td>1600</td><td>[1, 0, … 0]</td><td>null</td><td>null</td><td>null</td><td>&quot;default&quot;</td><td>0.2</td><td>0.2</td><td>2.0</td><td>[&quot;size1&quot;]</td><td>null</td><td>null</td><td>null</td><td>null</td><td>null</td><td>null</td><td>null</td><td>null</td><td>null</td><td>null</td><td>260</td><td>null</td><td>null</td><td>null</td><td>&hellip;</td><td>null</td><td>null</td><td>null</td><td>null</td><td>null</td><td>null</td><td>null</td><td>null</td><td>null</td><td>null</td><td>null</td><td>null</td><td>null</td><td>null</td><td>null</td><td>null</td><td>[0.0, 0.05, … 1.0]</td><td>[0.0, -0.05, … 1.0]</td><td>null</td><td>null</td><td>&quot;decouple&quot;</td><td>&quot;Squad/Parts/Co…</td><td>&quot;Coupling&quot;</td><td>&quot;0&quot;</td><td>&quot;/home/zeke/Sof…</td><td>&quot;Decoupler_1&quot;</td><td>null</td><td>0.1</td><td>0.04</td><td>null</td><td>null</td><td>null</td><td>null</td><td>null</td><td>&quot;/home/zeke/Sof…</td><td>&quot;http://0.0.0.0…</td><td>&quot;Squad&quot;</td></tr></tbody></table></div>"
      ],
      "text/plain": [
       "shape: (1, 87)\n",
       "┌────────────┬──────────┬───────┬────────────┬───┬────────────┬────────────┬────────────┬──────────┐\n",
       "│ title      ┆ dry_mass ┆ cost  ┆ crashToler ┆ … ┆ ISP_atm_WR ┆ icon_path  ┆ icon_url   ┆ provider │\n",
       "│ ---        ┆ ---      ┆ ---   ┆ ance       ┆   ┆ _wet       ┆ ---        ┆ ---        ┆ ---      │\n",
       "│ str        ┆ f64      ┆ f64   ┆ ---        ┆   ┆ ---        ┆ str        ┆ str        ┆ str      │\n",
       "│            ┆          ┆       ┆ f64        ┆   ┆ f64        ┆            ┆            ┆          │\n",
       "╞════════════╪══════════╪═══════╪════════════╪═══╪════════════╪════════════╪════════════╪══════════╡\n",
       "│ TD-12      ┆ 0.04     ┆ 200.0 ┆ 6.0        ┆ … ┆ null       ┆ /home/zeke ┆ http://0.0 ┆ Squad    │\n",
       "│ Decoupler  ┆          ┆       ┆            ┆   ┆            ┆ /Software/ ┆ .0.0:8000/ ┆          │\n",
       "│            ┆          ┆       ┆            ┆   ┆            ┆ KSP_linux/ ┆ Squad/Part ┆          │\n",
       "│            ┆          ┆       ┆            ┆   ┆            ┆ Ga…        ┆ s/…        ┆          │\n",
       "└────────────┴──────────┴───────┴────────────┴───┴────────────┴────────────┴────────────┴──────────┘"
      ]
     },
     "execution_count": 46,
     "metadata": {},
     "output_type": "execute_result"
    }
   ],
   "source": [
    "decoupler_diameter = 'size1'\n",
    "df.filter(\n",
    "    (c('diameter').list.contains(decoupler_diameter)) &\n",
    "    (c('category') == 'Coupling') &\n",
    "    (c('title').str.contains('(?i)decouple')) &\n",
    "    (c('provider') == 'Squad')\n",
    ")"
   ]
  },
  {
   "cell_type": "code",
   "execution_count": 120,
   "metadata": {},
   "outputs": [],
   "source": [
    "with open(test_save) as f:\n",
    "    test_contents = f.read()"
   ]
  },
  {
   "cell_type": "code",
   "execution_count": null,
   "metadata": {},
   "outputs": [],
   "source": [
    "print(test_contents)"
   ]
  },
  {
   "cell_type": "code",
   "execution_count": null,
   "metadata": {},
   "outputs": [],
   "source": [
    "fairing_id = 'fairingSize1_4294172644'\n",
    "THIS = '!!!!!!!!!!!!!!!!!!!!!!!!!!!'\n",
    "print(re.sub(fr'(?<=part\\ =\\ {fairing_id})(?P<n>(?:(?:.|\\n))+attN\\ =\\ bottom,)(?P<o>.+)(?=\\|.+)', fr'\\g<n>{THIS}', test_contents))"
   ]
  },
  {
   "cell_type": "code",
   "execution_count": 106,
   "metadata": {},
   "outputs": [
    {
     "data": {
      "text/html": [
       "<div><style>\n",
       ".dataframe > thead > tr,\n",
       ".dataframe > tbody > tr {\n",
       "  text-align: right;\n",
       "  white-space: pre-wrap;\n",
       "}\n",
       "</style>\n",
       "<small>shape: (821, 87)</small><table border=\"1\" class=\"dataframe\"><thead><tr><th>title</th><th>dry_mass</th><th>cost</th><th>crashTolerance</th><th>maxTemp</th><th>techLevel</th><th>manufacturer</th><th>description</th><th>author</th><th>module</th><th>rescaleFactor</th><th>minThrust</th><th>maxThrust</th><th>entryCost</th><th>attachRules</th><th>heatConductivity</th><th>skinInternalConductionMult</th><th>emissiveConstant</th><th>dragModelType</th><th>maximumDrag</th><th>minimumDrag</th><th>angularDrag</th><th>diameter</th><th>gimbalTransformName</th><th>gimbalRange</th><th>gimbalResponseSpeed</th><th>useGimbalResponseSpeed</th><th>jettisonName</th><th>bottomNodeName</th><th>isFairing</th><th>jettisonedObjectMass</th><th>jettisonForce</th><th>jettisonDirection</th><th>packedVolume</th><th>alternatorRate</th><th>experimentID</th><th>experimentActionName</th><th>&hellip;</th><th>thrustVectorTransformName</th><th>heatProduction</th><th>exhaustDamageDistanceOffset</th><th>maxLiquidFuel</th><th>maxOxidizer</th><th>maxOre</th><th>maxElectricCharge</th><th>maxIntakeAir</th><th>maxMonoPropellant</th><th>defaultLiquidFuel</th><th>defaultOxidizer</th><th>defaultOre</th><th>defaultElectricCharge</th><th>defaultIntakeAir</th><th>defaultMonoPropellant</th><th>propellants</th><th>node_stack_top</th><th>node_stack_bottom</th><th>ISP_atm</th><th>ISP_vac</th><th>tags</th><th>model_path</th><th>category</th><th>subcategory</th><th>path</th><th>name</th><th>TWR_dry</th><th>est_height</th><th>wet_mass</th><th>TWR_wet</th><th>ISP_vac_WR_dry</th><th>ISP_vac_WR_wet</th><th>ISP_atm_WR_dry</th><th>ISP_atm_WR_wet</th><th>icon_path</th><th>icon_url</th><th>provider</th></tr><tr><td>str</td><td>f64</td><td>f64</td><td>f64</td><td>i64</td><td>str</td><td>str</td><td>str</td><td>str</td><td>str</td><td>f64</td><td>f64</td><td>f64</td><td>i64</td><td>list[i64]</td><td>f64</td><td>f64</td><td>f64</td><td>str</td><td>f64</td><td>f64</td><td>f64</td><td>list[str]</td><td>str</td><td>f64</td><td>f64</td><td>bool</td><td>str</td><td>str</td><td>bool</td><td>f64</td><td>f64</td><td>list[i64]</td><td>i64</td><td>f64</td><td>str</td><td>str</td><td>&hellip;</td><td>str</td><td>f64</td><td>f64</td><td>f64</td><td>f64</td><td>f64</td><td>f64</td><td>f64</td><td>f64</td><td>f64</td><td>f64</td><td>f64</td><td>f64</td><td>f64</td><td>f64</td><td>list[str]</td><td>list[f64]</td><td>list[f64]</td><td>f64</td><td>f64</td><td>str</td><td>str</td><td>str</td><td>str</td><td>str</td><td>str</td><td>f64</td><td>f64</td><td>f64</td><td>f64</td><td>f64</td><td>f64</td><td>f64</td><td>f64</td><td>str</td><td>str</td><td>str</td></tr></thead><tbody><tr><td>&quot;FAT-455 Aeropl…</td><td>0.17</td><td>800.0</td><td>15.0</td><td>1200</td><td>&quot;heavyAerodynam…</td><td>&quot;WinterOwl Airc…</td><td>&quot;Large conventi…</td><td>&quot;Porkjet&quot;</td><td>&quot;Part&quot;</td><td>1.0</td><td>null</td><td>null</td><td>16400</td><td>[0, 1, … 1]</td><td>0.12</td><td>null</td><td>0.4</td><td>&quot;none&quot;</td><td>0.02</td><td>0.02</td><td>2.0</td><td>[&quot;srf&quot;]</td><td>null</td><td>null</td><td>null</td><td>null</td><td>null</td><td>null</td><td>null</td><td>null</td><td>null</td><td>null</td><td>-1</td><td>null</td><td>null</td><td>null</td><td>&hellip;</td><td>null</td><td>null</td><td>null</td><td>null</td><td>null</td><td>null</td><td>null</td><td>null</td><td>null</td><td>null</td><td>null</td><td>null</td><td>null</td><td>null</td><td>null</td><td>null</td><td>null</td><td>null</td><td>null</td><td>null</td><td>&quot;aileron aircra…</td><td>&quot;Squad/Parts/Ae…</td><td>&quot;Aero&quot;</td><td>&quot;0&quot;</td><td>&quot;/home/zeke/Sof…</td><td>&quot;airlinerCtrlSr…</td><td>null</td><td>null</td><td>0.17</td><td>null</td><td>null</td><td>null</td><td>null</td><td>null</td><td>&quot;/home/zeke/Sof…</td><td>&quot;http://0.0.0.0…</td><td>&quot;Squad&quot;</td></tr><tr><td>&quot;Atmospheric Fl…</td><td>0.005</td><td>6500.0</td><td>8.0</td><td>1200</td><td>&quot;scienceTech&quot;</td><td>&quot;Probodobodyne …</td><td>&quot;A device for p…</td><td>&quot;NovaSilisko&quot;</td><td>&quot;Part&quot;</td><td>0.8</td><td>null</td><td>null</td><td>12200</td><td>[0, 1, … 1]</td><td>null</td><td>null</td><td>null</td><td>&quot;default&quot;</td><td>0.2</td><td>0.2</td><td>1.0</td><td>[&quot;srf&quot;]</td><td>null</td><td>null</td><td>null</td><td>null</td><td>null</td><td>null</td><td>null</td><td>null</td><td>null</td><td>null</td><td>130</td><td>null</td><td>&quot;atmosphereAnal…</td><td>&quot;Run Atmosphere…</td><td>&hellip;</td><td>null</td><td>null</td><td>null</td><td>null</td><td>null</td><td>null</td><td>null</td><td>null</td><td>null</td><td>null</td><td>null</td><td>null</td><td>null</td><td>null</td><td>null</td><td>null</td><td>null</td><td>null</td><td>null</td><td>null</td><td>&quot;atmospher expe…</td><td>null</td><td>&quot;Science&quot;</td><td>&quot;0&quot;</td><td>&quot;/home/zeke/Sof…</td><td>&quot;sensorAtmosphe…</td><td>null</td><td>null</td><td>0.005</td><td>null</td><td>null</td><td>null</td><td>null</td><td>null</td><td>&quot;/home/zeke/Sof…</td><td>&quot;http://0.0.0.0…</td><td>&quot;Squad&quot;</td></tr><tr><td>&quot;Snacks!&quot;</td><td>0.001</td><td>6.0</td><td>6.0</td><td>2200</td><td>&quot;advExploration…</td><td>&quot;Kerbal Invento…</td><td>&quot;To be used in …</td><td>&quot;Well&quot;</td><td>&quot;Part&quot;</td><td>null</td><td>null</td><td>null</td><td>15</td><td>[0, 0, … 0]</td><td>null</td><td>null</td><td>null</td><td>&quot;default&quot;</td><td>0.2</td><td>0.3</td><td>2.0</td><td>[&quot;srf&quot;]</td><td>null</td><td>null</td><td>null</td><td>null</td><td>null</td><td>null</td><td>null</td><td>null</td><td>null</td><td>null</td><td>null</td><td>null</td><td>null</td><td>null</td><td>&hellip;</td><td>null</td><td>null</td><td>null</td><td>null</td><td>null</td><td>null</td><td>null</td><td>null</td><td>null</td><td>null</td><td>null</td><td>null</td><td>null</td><td>null</td><td>null</td><td>null</td><td>null</td><td>null</td><td>null</td><td>null</td><td>&quot;cck-eva-items&quot;</td><td>null</td><td>&quot;none&quot;</td><td>&quot;0&quot;</td><td>&quot;/home/zeke/Sof…</td><td>&quot;KIS_snacks&quot;</td><td>null</td><td>null</td><td>0.001</td><td>null</td><td>null</td><td>null</td><td>null</td><td>null</td><td>null</td><td>null</td><td>&quot;KIS&quot;</td></tr><tr><td>&quot;Communotron 88…</td><td>0.1</td><td>1500.0</td><td>7.0</td><td>2000</td><td>&quot;automation&quot;</td><td>&quot;Ionic Symphoni…</td><td>&quot;The Communotro…</td><td>&quot;NovaSilisko&quot;</td><td>&quot;Part&quot;</td><td>1.0</td><td>null</td><td>null</td><td>20000</td><td>[1, 1, … 0]</td><td>null</td><td>null</td><td>null</td><td>&quot;default&quot;</td><td>0.2</td><td>0.2</td><td>2.0</td><td>[&quot;size0&quot;, &quot;srf&quot;]</td><td>null</td><td>null</td><td>null</td><td>null</td><td>null</td><td>null</td><td>null</td><td>null</td><td>null</td><td>null</td><td>60</td><td>null</td><td>null</td><td>null</td><td>&hellip;</td><td>null</td><td>null</td><td>null</td><td>null</td><td>null</td><td>null</td><td>null</td><td>null</td><td>null</td><td>null</td><td>null</td><td>null</td><td>null</td><td>null</td><td>null</td><td>null</td><td>null</td><td>[0.0, -0.13, … 0.0]</td><td>null</td><td>null</td><td>&quot;aerial antenna…</td><td>null</td><td>&quot;Communication&quot;</td><td>&quot;0&quot;</td><td>&quot;/home/zeke/Sof…</td><td>&quot;commDish&quot;</td><td>null</td><td>null</td><td>0.1</td><td>null</td><td>null</td><td>null</td><td>null</td><td>null</td><td>&quot;/home/zeke/Sof…</td><td>&quot;http://0.0.0.0…</td><td>&quot;Squad&quot;</td></tr><tr><td>&quot;EM-64S Heavy R…</td><td>0.55</td><td>600.0</td><td>12.0</td><td>2000</td><td>&quot;advancedMotors…</td><td>&quot;Kerbal Motion …</td><td>&quot;A large low-to…</td><td>&quot;RoverDude&quot;</td><td>&quot;Part&quot;</td><td>1.0</td><td>null</td><td>null</td><td>8200</td><td>[1, 1, … 0]</td><td>null</td><td>null</td><td>null</td><td>&quot;default&quot;</td><td>0.2</td><td>0.2</td><td>1.0</td><td>[&quot;size1&quot;]</td><td>null</td><td>null</td><td>null</td><td>null</td><td>null</td><td>null</td><td>null</td><td>null</td><td>null</td><td>null</td><td>-1</td><td>null</td><td>null</td><td>null</td><td>&hellip;</td><td>null</td><td>null</td><td>null</td><td>null</td><td>null</td><td>null</td><td>null</td><td>null</td><td>null</td><td>null</td><td>null</td><td>null</td><td>null</td><td>null</td><td>null</td><td>null</td><td>[0.0, 0.955512, … 1.0]</td><td>[0.0, 0.0, … 2.0]</td><td>null</td><td>null</td><td>&quot;robot actuator…</td><td>&quot;SquadExpansion…</td><td>&quot;Robotics&quot;</td><td>&quot;0&quot;</td><td>&quot;/home/zeke/Sof…</td><td>&quot;rotor_03s&quot;</td><td>null</td><td>0.955512</td><td>0.55</td><td>null</td><td>null</td><td>null</td><td>null</td><td>null</td><td>&quot;/home/zeke/Sof…</td><td>&quot;http://0.0.0.0…</td><td>&quot;SquadExpansion…</td></tr><tr><td>&hellip;</td><td>&hellip;</td><td>&hellip;</td><td>&hellip;</td><td>&hellip;</td><td>&hellip;</td><td>&hellip;</td><td>&hellip;</td><td>&hellip;</td><td>&hellip;</td><td>&hellip;</td><td>&hellip;</td><td>&hellip;</td><td>&hellip;</td><td>&hellip;</td><td>&hellip;</td><td>&hellip;</td><td>&hellip;</td><td>&hellip;</td><td>&hellip;</td><td>&hellip;</td><td>&hellip;</td><td>&hellip;</td><td>&hellip;</td><td>&hellip;</td><td>&hellip;</td><td>&hellip;</td><td>&hellip;</td><td>&hellip;</td><td>&hellip;</td><td>&hellip;</td><td>&hellip;</td><td>&hellip;</td><td>&hellip;</td><td>&hellip;</td><td>&hellip;</td><td>&hellip;</td><td>&hellip;</td><td>&hellip;</td><td>&hellip;</td><td>&hellip;</td><td>&hellip;</td><td>&hellip;</td><td>&hellip;</td><td>&hellip;</td><td>&hellip;</td><td>&hellip;</td><td>&hellip;</td><td>&hellip;</td><td>&hellip;</td><td>&hellip;</td><td>&hellip;</td><td>&hellip;</td><td>&hellip;</td><td>&hellip;</td><td>&hellip;</td><td>&hellip;</td><td>&hellip;</td><td>&hellip;</td><td>&hellip;</td><td>&hellip;</td><td>&hellip;</td><td>&hellip;</td><td>&hellip;</td><td>&hellip;</td><td>&hellip;</td><td>&hellip;</td><td>&hellip;</td><td>&hellip;</td><td>&hellip;</td><td>&hellip;</td><td>&hellip;</td><td>&hellip;</td><td>&hellip;</td><td>&hellip;</td></tr><tr><td>&quot;FTE-1 Drain Va…</td><td>0.01</td><td>50.0</td><td>12.0</td><td>2000</td><td>&quot;fuelSystems&quot;</td><td>&quot;FLOOYD Dynamic…</td><td>&quot;While trying t…</td><td>&quot;Squad&quot;</td><td>&quot;Part&quot;</td><td>1.0</td><td>null</td><td>null</td><td>2500</td><td>[0, 1, … 0]</td><td>null</td><td>null</td><td>null</td><td>&quot;default&quot;</td><td>0.2</td><td>0.2</td><td>1.0</td><td>[&quot;srf&quot;]</td><td>null</td><td>null</td><td>null</td><td>null</td><td>null</td><td>null</td><td>null</td><td>null</td><td>null</td><td>null</td><td>2</td><td>null</td><td>null</td><td>null</td><td>&hellip;</td><td>null</td><td>null</td><td>null</td><td>null</td><td>null</td><td>null</td><td>null</td><td>null</td><td>null</td><td>null</td><td>null</td><td>null</td><td>null</td><td>null</td><td>null</td><td>null</td><td>null</td><td>null</td><td>null</td><td>null</td><td>&quot;lose remove lf…</td><td>null</td><td>&quot;FuelTank&quot;</td><td>&quot;0&quot;</td><td>&quot;/home/zeke/Sof…</td><td>&quot;ReleaseValve&quot;</td><td>null</td><td>null</td><td>0.01</td><td>null</td><td>null</td><td>null</td><td>null</td><td>null</td><td>&quot;/home/zeke/Sof…</td><td>&quot;http://0.0.0.0…</td><td>&quot;Squad&quot;</td></tr><tr><td>&quot;SP-L 1x6 Photo…</td><td>0.025</td><td>440.0</td><td>8.0</td><td>2000</td><td>&quot;advElectrics&quot;</td><td>&quot;Probodobodyne …</td><td>&quot;The alternate …</td><td>&quot;NovaSilisko&quot;</td><td>&quot;Part&quot;</td><td>1.0</td><td>null</td><td>null</td><td>4400</td><td>[0, 1, … 1]</td><td>0.04</td><td>null</td><td>0.95</td><td>&quot;default&quot;</td><td>0.2</td><td>0.2</td><td>1.0</td><td>[&quot;srf&quot;]</td><td>null</td><td>null</td><td>null</td><td>null</td><td>null</td><td>null</td><td>null</td><td>null</td><td>null</td><td>null</td><td>70</td><td>null</td><td>null</td><td>null</td><td>&hellip;</td><td>null</td><td>null</td><td>null</td><td>null</td><td>null</td><td>null</td><td>null</td><td>null</td><td>null</td><td>null</td><td>null</td><td>null</td><td>null</td><td>null</td><td>null</td><td>null</td><td>null</td><td>null</td><td>null</td><td>null</td><td>&quot;array charge d…</td><td>null</td><td>&quot;Electrical&quot;</td><td>&quot;0&quot;</td><td>&quot;/home/zeke/Sof…</td><td>&quot;solarPanels2&quot;</td><td>null</td><td>null</td><td>0.025</td><td>null</td><td>null</td><td>null</td><td>null</td><td>null</td><td>&quot;/home/zeke/Sof…</td><td>&quot;http://0.0.0.0…</td><td>&quot;Squad&quot;</td></tr><tr><td>&quot;#LOC_KPBS.fuel…</td><td>0.6</td><td>1000.0</td><td>15.0</td><td>2000</td><td>&quot;fuelSystems&quot;</td><td>&quot;#LOC_KPBS.agen…</td><td>&quot;#LOC_KPBS.fuel…</td><td>&quot;Nils277&quot;</td><td>&quot;Part&quot;</td><td>1.0</td><td>null</td><td>null</td><td>4150</td><td>[1, 0, … 0]</td><td>null</td><td>null</td><td>null</td><td>&quot;default&quot;</td><td>0.2</td><td>0.2</td><td>2.0</td><td>[&quot;PlanetaryBase&quot;]</td><td>null</td><td>null</td><td>null</td><td>null</td><td>null</td><td>null</td><td>null</td><td>null</td><td>null</td><td>null</td><td>null</td><td>null</td><td>null</td><td>null</td><td>&hellip;</td><td>null</td><td>null</td><td>null</td><td>360.0</td><td>440.0</td><td>null</td><td>null</td><td>null</td><td>null</td><td>360.0</td><td>440.0</td><td>null</td><td>null</td><td>null</td><td>null</td><td>null</td><td>[0.0, 0.78125, … 1.0]</td><td>[0.0, -0.78125, … 1.0]</td><td>null</td><td>null</td><td>&quot;#LOC_KPBS.fuel…</td><td>&quot;PlanetaryBaseI…</td><td>&quot;FuelTank&quot;</td><td>&quot;0&quot;</td><td>&quot;/home/zeke/Sof…</td><td>&quot;KKAOSS_Fuel_Ta…</td><td>null</td><td>1.5625</td><td>4.6</td><td>null</td><td>null</td><td>null</td><td>null</td><td>null</td><td>null</td><td>null</td><td>&quot;PlanetaryBaseI…</td></tr><tr><td>&quot;Work Lamp (Sta…</td><td>0.003</td><td>35.0</td><td>12.0</td><td>1200</td><td>&quot;spaceExplorati…</td><td>&quot;Jebediah Kerma…</td><td>&quot;When you&#x27;re se…</td><td>&quot;Squad&quot;</td><td>&quot;Part&quot;</td><td>1.0</td><td>null</td><td>null</td><td>700</td><td>[0, 0, … 0]</td><td>null</td><td>null</td><td>null</td><td>&quot;default&quot;</td><td>0.2</td><td>0.2</td><td>1.0</td><td>null</td><td>null</td><td>null</td><td>null</td><td>null</td><td>null</td><td>null</td><td>null</td><td>null</td><td>null</td><td>null</td><td>null</td><td>null</td><td>null</td><td>null</td><td>&hellip;</td><td>null</td><td>null</td><td>null</td><td>null</td><td>null</td><td>null</td><td>null</td><td>null</td><td>null</td><td>null</td><td>null</td><td>null</td><td>null</td><td>null</td><td>null</td><td>null</td><td>null</td><td>null</td><td>null</td><td>null</td><td>&quot;moar (more bul…</td><td>&quot;Squad/Parts/Ut…</td><td>&quot;Cargo&quot;</td><td>&quot;0&quot;</td><td>&quot;/home/zeke/Sof…</td><td>&quot;groundLight2&quot;</td><td>null</td><td>null</td><td>0.003</td><td>null</td><td>null</td><td>null</td><td>null</td><td>null</td><td>&quot;/home/zeke/Sof…</td><td>&quot;http://0.0.0.0…</td><td>&quot;Squad&quot;</td></tr><tr><td>&quot;Alpard Kerman&#x27;…</td><td>0.002</td><td>120.0</td><td>6.0</td><td>2900</td><td>&quot;fieldScience&quot;</td><td>&quot;Kerbal Invento…</td><td>&quot;Ballistic calc…</td><td>null</td><td>&quot;Part&quot;</td><td>null</td><td>null</td><td>null</td><td>360</td><td>[0, 0, … 0]</td><td>null</td><td>null</td><td>null</td><td>&quot;default&quot;</td><td>0.2</td><td>0.3</td><td>2.0</td><td>[&quot;srf&quot;]</td><td>null</td><td>null</td><td>null</td><td>null</td><td>null</td><td>null</td><td>null</td><td>null</td><td>null</td><td>null</td><td>null</td><td>null</td><td>null</td><td>null</td><td>&hellip;</td><td>null</td><td>null</td><td>null</td><td>null</td><td>null</td><td>null</td><td>null</td><td>null</td><td>null</td><td>null</td><td>null</td><td>null</td><td>null</td><td>null</td><td>null</td><td>null</td><td>null</td><td>null</td><td>null</td><td>null</td><td>&quot;cck-eva-items&quot;</td><td>null</td><td>&quot;none&quot;</td><td>&quot;0&quot;</td><td>&quot;/home/zeke/Sof…</td><td>&quot;KIS_golfclub&quot;</td><td>null</td><td>null</td><td>0.002</td><td>null</td><td>null</td><td>null</td><td>null</td><td>null</td><td>null</td><td>null</td><td>&quot;KIS&quot;</td></tr></tbody></table></div>"
      ],
      "text/plain": [
       "shape: (821, 87)\n",
       "┌────────────┬──────────┬────────┬────────────┬───┬────────────┬───────────┬───────────┬───────────┐\n",
       "│ title      ┆ dry_mass ┆ cost   ┆ crashToler ┆ … ┆ ISP_atm_WR ┆ icon_path ┆ icon_url  ┆ provider  │\n",
       "│ ---        ┆ ---      ┆ ---    ┆ ance       ┆   ┆ _wet       ┆ ---       ┆ ---       ┆ ---       │\n",
       "│ str        ┆ f64      ┆ f64    ┆ ---        ┆   ┆ ---        ┆ str       ┆ str       ┆ str       │\n",
       "│            ┆          ┆        ┆ f64        ┆   ┆ f64        ┆           ┆           ┆           │\n",
       "╞════════════╪══════════╪════════╪════════════╪═══╪════════════╪═══════════╪═══════════╪═══════════╡\n",
       "│ FAT-455    ┆ 0.17     ┆ 800.0  ┆ 15.0       ┆ … ┆ null       ┆ /home/zek ┆ http://0. ┆ Squad     │\n",
       "│ Aeroplane  ┆          ┆        ┆            ┆   ┆            ┆ e/Softwar ┆ 0.0.0:800 ┆           │\n",
       "│ Control    ┆          ┆        ┆            ┆   ┆            ┆ e/KSP_lin ┆ 0/Squad/P ┆           │\n",
       "│ Surfac…    ┆          ┆        ┆            ┆   ┆            ┆ ux/Ga…    ┆ arts/…    ┆           │\n",
       "│ Atmospheri ┆ 0.005    ┆ 6500.0 ┆ 8.0        ┆ … ┆ null       ┆ /home/zek ┆ http://0. ┆ Squad     │\n",
       "│ c Fluid    ┆          ┆        ┆            ┆   ┆            ┆ e/Softwar ┆ 0.0.0:800 ┆           │\n",
       "│ Spectro-Va ┆          ┆        ┆            ┆   ┆            ┆ e/KSP_lin ┆ 0/Squad/P ┆           │\n",
       "│ riom…      ┆          ┆        ┆            ┆   ┆            ┆ ux/Ga…    ┆ arts/…    ┆           │\n",
       "│ Snacks!    ┆ 0.001    ┆ 6.0    ┆ 6.0        ┆ … ┆ null       ┆ null      ┆ null      ┆ KIS       │\n",
       "│ Communotro ┆ 0.1      ┆ 1500.0 ┆ 7.0        ┆ … ┆ null       ┆ /home/zek ┆ http://0. ┆ Squad     │\n",
       "│ n 88-88    ┆          ┆        ┆            ┆   ┆            ┆ e/Softwar ┆ 0.0.0:800 ┆           │\n",
       "│            ┆          ┆        ┆            ┆   ┆            ┆ e/KSP_lin ┆ 0/Squad/P ┆           │\n",
       "│            ┆          ┆        ┆            ┆   ┆            ┆ ux/Ga…    ┆ arts/…    ┆           │\n",
       "│ EM-64S     ┆ 0.55     ┆ 600.0  ┆ 12.0       ┆ … ┆ null       ┆ /home/zek ┆ http://0. ┆ SquadExpa │\n",
       "│ Heavy      ┆          ┆        ┆            ┆   ┆            ┆ e/Softwar ┆ 0.0.0:800 ┆ nsion     │\n",
       "│ Rotor      ┆          ┆        ┆            ┆   ┆            ┆ e/KSP_lin ┆ 0/SquadEx ┆           │\n",
       "│            ┆          ┆        ┆            ┆   ┆            ┆ ux/Ga…    ┆ pansi…    ┆           │\n",
       "│ …          ┆ …        ┆ …      ┆ …          ┆ … ┆ …          ┆ …         ┆ …         ┆ …         │\n",
       "│ FTE-1      ┆ 0.01     ┆ 50.0   ┆ 12.0       ┆ … ┆ null       ┆ /home/zek ┆ http://0. ┆ Squad     │\n",
       "│ Drain      ┆          ┆        ┆            ┆   ┆            ┆ e/Softwar ┆ 0.0.0:800 ┆           │\n",
       "│ Valve      ┆          ┆        ┆            ┆   ┆            ┆ e/KSP_lin ┆ 0/Squad/P ┆           │\n",
       "│            ┆          ┆        ┆            ┆   ┆            ┆ ux/Ga…    ┆ arts/…    ┆           │\n",
       "│ SP-L 1x6   ┆ 0.025    ┆ 440.0  ┆ 8.0        ┆ … ┆ null       ┆ /home/zek ┆ http://0. ┆ Squad     │\n",
       "│ Photovolta ┆          ┆        ┆            ┆   ┆            ┆ e/Softwar ┆ 0.0.0:800 ┆           │\n",
       "│ ic Panels  ┆          ┆        ┆            ┆   ┆            ┆ e/KSP_lin ┆ 0/Squad/P ┆           │\n",
       "│            ┆          ┆        ┆            ┆   ┆            ┆ ux/Ga…    ┆ arts/…    ┆           │\n",
       "│ #LOC_KPBS. ┆ 0.6      ┆ 1000.0 ┆ 15.0       ┆ … ┆ null       ┆ null      ┆ null      ┆ Planetary │\n",
       "│ fueltanksm ┆          ┆        ┆            ┆   ┆            ┆           ┆           ┆ BaseInc   │\n",
       "│ all.title  ┆          ┆        ┆            ┆   ┆            ┆           ┆           ┆           │\n",
       "│ Work Lamp  ┆ 0.003    ┆ 35.0   ┆ 12.0       ┆ … ┆ null       ┆ /home/zek ┆ http://0. ┆ Squad     │\n",
       "│ (Stand)    ┆          ┆        ┆            ┆   ┆            ┆ e/Softwar ┆ 0.0.0:800 ┆           │\n",
       "│            ┆          ┆        ┆            ┆   ┆            ┆ e/KSP_lin ┆ 0/Squad/P ┆           │\n",
       "│            ┆          ┆        ┆            ┆   ┆            ┆ ux/Ga…    ┆ arts/…    ┆           │\n",
       "│ Alpard     ┆ 0.002    ┆ 120.0  ┆ 6.0        ┆ … ┆ null       ┆ null      ┆ null      ┆ KIS       │\n",
       "│ Kerman's   ┆          ┆        ┆            ┆   ┆            ┆           ┆           ┆           │\n",
       "│ Golf Club  ┆          ┆        ┆            ┆   ┆            ┆           ┆           ┆           │\n",
       "└────────────┴──────────┴────────┴────────────┴───┴────────────┴───────────┴───────────┴───────────┘"
      ]
     },
     "execution_count": 106,
     "metadata": {},
     "output_type": "execute_result"
    }
   ],
   "source": [
    "df"
   ]
  },
  {
   "cell_type": "code",
   "execution_count": 89,
   "metadata": {},
   "outputs": [],
   "source": [
    "save = convert_list_to_dict(parse_cfg_file(test_save).as_list())\n",
    "matches = [m.value for m in parse('$.PART..part').find(save)]\n",
    "largest_fairing = df.filter(c('name').is_in([m.split('_')[0].replace('.', '_') for m in matches if 'fairing' in m])).sort('dry_mass')[-1]\n",
    "largest_fairing_id = list(filter(lambda i: largest_fairing['name'][0] in i, matches))[0]"
   ]
  },
  {
   "cell_type": "code",
   "execution_count": 12,
   "metadata": {},
   "outputs": [
    {
     "data": {
      "text/html": [
       "<div><style>\n",
       ".dataframe > thead > tr,\n",
       ".dataframe > tbody > tr {\n",
       "  text-align: right;\n",
       "  white-space: pre-wrap;\n",
       "}\n",
       "</style>\n",
       "<small>shape: (1, 87)</small><table border=\"1\" class=\"dataframe\"><thead><tr><th>title</th><th>dry_mass</th><th>cost</th><th>crashTolerance</th><th>maxTemp</th><th>techLevel</th><th>manufacturer</th><th>description</th><th>author</th><th>module</th><th>rescaleFactor</th><th>minThrust</th><th>maxThrust</th><th>entryCost</th><th>attachRules</th><th>heatConductivity</th><th>skinInternalConductionMult</th><th>emissiveConstant</th><th>dragModelType</th><th>maximumDrag</th><th>minimumDrag</th><th>angularDrag</th><th>diameter</th><th>gimbalTransformName</th><th>gimbalRange</th><th>gimbalResponseSpeed</th><th>useGimbalResponseSpeed</th><th>jettisonName</th><th>bottomNodeName</th><th>isFairing</th><th>jettisonedObjectMass</th><th>jettisonForce</th><th>jettisonDirection</th><th>packedVolume</th><th>alternatorRate</th><th>experimentID</th><th>experimentActionName</th><th>&hellip;</th><th>thrustVectorTransformName</th><th>heatProduction</th><th>exhaustDamageDistanceOffset</th><th>maxLiquidFuel</th><th>maxOxidizer</th><th>maxOre</th><th>maxElectricCharge</th><th>maxIntakeAir</th><th>maxMonoPropellant</th><th>defaultLiquidFuel</th><th>defaultOxidizer</th><th>defaultOre</th><th>defaultElectricCharge</th><th>defaultIntakeAir</th><th>defaultMonoPropellant</th><th>propellants</th><th>node_stack_top</th><th>node_stack_bottom</th><th>ISP_atm</th><th>ISP_vac</th><th>tags</th><th>model_path</th><th>category</th><th>subcategory</th><th>path</th><th>name</th><th>TWR_dry</th><th>est_height</th><th>wet_mass</th><th>TWR_wet</th><th>ISP_vac_WR_dry</th><th>ISP_vac_WR_wet</th><th>ISP_atm_WR_dry</th><th>ISP_atm_WR_wet</th><th>icon_path</th><th>icon_url</th><th>provider</th></tr><tr><td>str</td><td>f64</td><td>f64</td><td>f64</td><td>i64</td><td>str</td><td>str</td><td>str</td><td>str</td><td>str</td><td>f64</td><td>f64</td><td>f64</td><td>i64</td><td>list[i64]</td><td>f64</td><td>f64</td><td>f64</td><td>str</td><td>f64</td><td>f64</td><td>f64</td><td>list[str]</td><td>str</td><td>f64</td><td>f64</td><td>bool</td><td>str</td><td>str</td><td>bool</td><td>f64</td><td>f64</td><td>list[i64]</td><td>i64</td><td>f64</td><td>str</td><td>str</td><td>&hellip;</td><td>str</td><td>f64</td><td>f64</td><td>f64</td><td>f64</td><td>f64</td><td>f64</td><td>f64</td><td>f64</td><td>f64</td><td>f64</td><td>f64</td><td>f64</td><td>f64</td><td>f64</td><td>list[str]</td><td>list[f64]</td><td>list[f64]</td><td>f64</td><td>f64</td><td>str</td><td>str</td><td>str</td><td>str</td><td>str</td><td>str</td><td>f64</td><td>f64</td><td>f64</td><td>f64</td><td>f64</td><td>f64</td><td>f64</td><td>f64</td><td>str</td><td>str</td><td>str</td></tr></thead><tbody><tr><td>&quot;TD-12 Decouple…</td><td>0.04</td><td>200.0</td><td>6.0</td><td>2000</td><td>&quot;engineering101…</td><td>&quot;O.M.B. Demolit…</td><td>&quot;The TD-12 Stac…</td><td>&quot;RoverDude&quot;</td><td>&quot;Part&quot;</td><td>1.0</td><td>null</td><td>null</td><td>1600</td><td>[1, 0, … 0]</td><td>null</td><td>null</td><td>null</td><td>&quot;default&quot;</td><td>0.2</td><td>0.2</td><td>2.0</td><td>[&quot;size1&quot;]</td><td>null</td><td>null</td><td>null</td><td>null</td><td>null</td><td>null</td><td>null</td><td>null</td><td>null</td><td>null</td><td>260</td><td>null</td><td>null</td><td>null</td><td>&hellip;</td><td>null</td><td>null</td><td>null</td><td>null</td><td>null</td><td>null</td><td>null</td><td>null</td><td>null</td><td>null</td><td>null</td><td>null</td><td>null</td><td>null</td><td>null</td><td>null</td><td>[0.0, 0.05, … 1.0]</td><td>[0.0, -0.05, … 1.0]</td><td>null</td><td>null</td><td>&quot;decouple&quot;</td><td>&quot;Squad/Parts/Co…</td><td>&quot;Coupling&quot;</td><td>&quot;0&quot;</td><td>&quot;/home/zeke/Sof…</td><td>&quot;Decoupler_1&quot;</td><td>null</td><td>0.1</td><td>0.04</td><td>null</td><td>null</td><td>null</td><td>null</td><td>null</td><td>&quot;/home/zeke/Sof…</td><td>&quot;http://0.0.0.0…</td><td>&quot;Squad&quot;</td></tr></tbody></table></div>"
      ],
      "text/plain": [
       "shape: (1, 87)\n",
       "┌────────────┬──────────┬───────┬────────────┬───┬────────────┬────────────┬────────────┬──────────┐\n",
       "│ title      ┆ dry_mass ┆ cost  ┆ crashToler ┆ … ┆ ISP_atm_WR ┆ icon_path  ┆ icon_url   ┆ provider │\n",
       "│ ---        ┆ ---      ┆ ---   ┆ ance       ┆   ┆ _wet       ┆ ---        ┆ ---        ┆ ---      │\n",
       "│ str        ┆ f64      ┆ f64   ┆ ---        ┆   ┆ ---        ┆ str        ┆ str        ┆ str      │\n",
       "│            ┆          ┆       ┆ f64        ┆   ┆ f64        ┆            ┆            ┆          │\n",
       "╞════════════╪══════════╪═══════╪════════════╪═══╪════════════╪════════════╪════════════╪══════════╡\n",
       "│ TD-12      ┆ 0.04     ┆ 200.0 ┆ 6.0        ┆ … ┆ null       ┆ /home/zeke ┆ http://0.0 ┆ Squad    │\n",
       "│ Decoupler  ┆          ┆       ┆            ┆   ┆            ┆ /Software/ ┆ .0.0:8000/ ┆          │\n",
       "│            ┆          ┆       ┆            ┆   ┆            ┆ KSP_linux/ ┆ Squad/Part ┆          │\n",
       "│            ┆          ┆       ┆            ┆   ┆            ┆ Ga…        ┆ s/…        ┆          │\n",
       "└────────────┴──────────┴───────┴────────────┴───┴────────────┴────────────┴────────────┴──────────┘"
      ]
     },
     "execution_count": 12,
     "metadata": {},
     "output_type": "execute_result"
    }
   ],
   "source": [
    "df.filter(\n",
    "            (c('diameter').list.contains('size1')) &\n",
    "            (c('category') == 'Coupling') &\n",
    "            (c('title').str.contains('(?i)decouple')) &\n",
    "            (c('provider') == 'Squad')\n",
    "        )"
   ]
  },
  {
   "cell_type": "code",
   "execution_count": 13,
   "metadata": {},
   "outputs": [
    {
     "data": {
      "text/plain": [
       "'Kerbodyne S4-64 Fuel Tank'"
      ]
     },
     "execution_count": 13,
     "metadata": {},
     "output_type": "execute_result"
    }
   ],
   "source": [
    "df.filter(c('provider').str.contains('Squad')).filter(\n",
    "    c('diameter').list.contains('size4') &\n",
    "    (c('category') == 'FuelTank') &\n",
    "    (c('maxLiquidFuel') > 0) &\n",
    "    (c('maxOxidizer') > 0) &\n",
    "    (~c('title').is_in((\"R-12 'Doughnut' External Tank\",))) &\n",
    "    (~c('title').str.contains('(?i)adapter'))\n",
    ").sort('wet_mass')['title'][0]"
   ]
  },
  {
   "cell_type": "code",
   "execution_count": 14,
   "metadata": {},
   "outputs": [
    {
     "name": "stdout",
     "output_type": "stream",
     "text": [
      "RE-J10 \"Wolfhound\" Liquid Fuel Engine\n",
      "TWR: 3.0487804878048776\n"
     ]
    },
    {
     "data": {
      "text/html": [
       "<div><style>\n",
       ".dataframe > thead > tr,\n",
       ".dataframe > tbody > tr {\n",
       "  text-align: right;\n",
       "  white-space: pre-wrap;\n",
       "}\n",
       "</style>\n",
       "<small>shape: (1, 87)</small><table border=\"1\" class=\"dataframe\"><thead><tr><th>title</th><th>dry_mass</th><th>cost</th><th>crashTolerance</th><th>maxTemp</th><th>techLevel</th><th>manufacturer</th><th>description</th><th>author</th><th>module</th><th>rescaleFactor</th><th>minThrust</th><th>maxThrust</th><th>entryCost</th><th>attachRules</th><th>heatConductivity</th><th>skinInternalConductionMult</th><th>emissiveConstant</th><th>dragModelType</th><th>maximumDrag</th><th>minimumDrag</th><th>angularDrag</th><th>diameter</th><th>gimbalTransformName</th><th>gimbalRange</th><th>gimbalResponseSpeed</th><th>useGimbalResponseSpeed</th><th>jettisonName</th><th>bottomNodeName</th><th>isFairing</th><th>jettisonedObjectMass</th><th>jettisonForce</th><th>jettisonDirection</th><th>packedVolume</th><th>alternatorRate</th><th>experimentID</th><th>experimentActionName</th><th>&hellip;</th><th>thrustVectorTransformName</th><th>heatProduction</th><th>exhaustDamageDistanceOffset</th><th>maxLiquidFuel</th><th>maxOxidizer</th><th>maxOre</th><th>maxElectricCharge</th><th>maxIntakeAir</th><th>maxMonoPropellant</th><th>defaultLiquidFuel</th><th>defaultOxidizer</th><th>defaultOre</th><th>defaultElectricCharge</th><th>defaultIntakeAir</th><th>defaultMonoPropellant</th><th>propellants</th><th>node_stack_top</th><th>node_stack_bottom</th><th>ISP_atm</th><th>ISP_vac</th><th>tags</th><th>model_path</th><th>category</th><th>subcategory</th><th>path</th><th>name</th><th>TWR_dry</th><th>est_height</th><th>wet_mass</th><th>TWR_wet</th><th>ISP_vac_WR_dry</th><th>ISP_vac_WR_wet</th><th>ISP_atm_WR_dry</th><th>ISP_atm_WR_wet</th><th>icon_path</th><th>icon_url</th><th>provider</th></tr><tr><td>str</td><td>f64</td><td>f64</td><td>f64</td><td>i64</td><td>str</td><td>str</td><td>str</td><td>str</td><td>str</td><td>f64</td><td>f64</td><td>f64</td><td>i64</td><td>list[i64]</td><td>f64</td><td>f64</td><td>f64</td><td>str</td><td>f64</td><td>f64</td><td>f64</td><td>list[str]</td><td>str</td><td>f64</td><td>f64</td><td>bool</td><td>str</td><td>str</td><td>bool</td><td>f64</td><td>f64</td><td>list[i64]</td><td>i64</td><td>f64</td><td>str</td><td>str</td><td>&hellip;</td><td>str</td><td>f64</td><td>f64</td><td>f64</td><td>f64</td><td>f64</td><td>f64</td><td>f64</td><td>f64</td><td>f64</td><td>f64</td><td>f64</td><td>f64</td><td>f64</td><td>f64</td><td>list[str]</td><td>list[f64]</td><td>list[f64]</td><td>f64</td><td>f64</td><td>str</td><td>str</td><td>str</td><td>str</td><td>str</td><td>str</td><td>f64</td><td>f64</td><td>f64</td><td>f64</td><td>f64</td><td>f64</td><td>f64</td><td>f64</td><td>str</td><td>str</td><td>str</td></tr></thead><tbody><tr><td>&quot;RE-J10 &quot;Wolfho…</td><td>3.3</td><td>3000.0</td><td>6.0</td><td>2000</td><td>&quot;veryHeavyRocke…</td><td>&quot;Rockomax Congl…</td><td>&quot;Woof! With the…</td><td>&quot;RoverDude&quot;</td><td>&quot;Part&quot;</td><td>1.0</td><td>0.0</td><td>375.0</td><td>12000</td><td>[1, 0, … 0]</td><td>0.06</td><td>4.0</td><td>0.8</td><td>&quot;default&quot;</td><td>0.2</td><td>0.2</td><td>2.0</td><td>[&quot;size2&quot;]</td><td>&quot;gimbal&quot;</td><td>3.0</td><td>null</td><td>null</td><td>&quot;Shroud2x2,Shro…</td><td>&quot;bottom&quot;</td><td>true</td><td>0.1</td><td>5.0</td><td>[0, 0, 1]</td><td>null</td><td>8.0</td><td>null</td><td>null</td><td>&hellip;</td><td>&quot;thrustTransfor…</td><td>83.0</td><td>1.75</td><td>null</td><td>null</td><td>null</td><td>null</td><td>null</td><td>null</td><td>null</td><td>null</td><td>null</td><td>null</td><td>null</td><td>null</td><td>[&quot;LiquidFuel&quot;, &quot;Oxidizer&quot;]</td><td>[0.0, 0.361067, … 2.0]</td><td>[0.0, -1.8, … 2.0]</td><td>70.0</td><td>380.0</td><td>&quot;rocket liquid …</td><td>null</td><td>&quot;Engine&quot;</td><td>&quot;0&quot;</td><td>&quot;/home/zeke/Sof…</td><td>&quot;LiquidEngineRE…</td><td>113.636364</td><td>2.161067</td><td>3.3</td><td>113.636364</td><td>115.151515</td><td>115.151515</td><td>21.212121</td><td>21.212121</td><td>&quot;/home/zeke/Sof…</td><td>&quot;http://0.0.0.0…</td><td>&quot;SquadExpansion…</td></tr></tbody></table></div>"
      ],
      "text/plain": [
       "shape: (1, 87)\n",
       "┌────────────┬──────────┬────────┬────────────┬───┬────────────┬───────────┬───────────┬───────────┐\n",
       "│ title      ┆ dry_mass ┆ cost   ┆ crashToler ┆ … ┆ ISP_atm_WR ┆ icon_path ┆ icon_url  ┆ provider  │\n",
       "│ ---        ┆ ---      ┆ ---    ┆ ance       ┆   ┆ _wet       ┆ ---       ┆ ---       ┆ ---       │\n",
       "│ str        ┆ f64      ┆ f64    ┆ ---        ┆   ┆ ---        ┆ str       ┆ str       ┆ str       │\n",
       "│            ┆          ┆        ┆ f64        ┆   ┆ f64        ┆           ┆           ┆           │\n",
       "╞════════════╪══════════╪════════╪════════════╪═══╪════════════╪═══════════╪═══════════╪═══════════╡\n",
       "│ RE-J10 \"Wo ┆ 3.3      ┆ 3000.0 ┆ 6.0        ┆ … ┆ 21.212121  ┆ /home/zek ┆ http://0. ┆ SquadExpa │\n",
       "│ lfhound\"   ┆          ┆        ┆            ┆   ┆            ┆ e/Softwar ┆ 0.0.0:800 ┆ nsion     │\n",
       "│ Liquid     ┆          ┆        ┆            ┆   ┆            ┆ e/KSP_lin ┆ 0/SquadEx ┆           │\n",
       "│ Fuel E…    ┆          ┆        ┆            ┆   ┆            ┆ ux/Ga…    ┆ pansi…    ┆           │\n",
       "└────────────┴──────────┴────────┴────────────┴───┴────────────┴───────────┴───────────┴───────────┘"
      ]
     },
     "execution_count": 14,
     "metadata": {},
     "output_type": "execute_result"
    }
   ],
   "source": [
    "i = 0\n",
    "print(optimal_engine(df.filter(c('provider').str.contains('Squad')), 1, 9, 'size3', True, 1.5)['title'][i])\n",
    "print('TWR:', optimal_engine(df.filter(c('provider').str.contains('Squad')), 1, 9, 'size3', True, 1.5).select((c('maxThrust')/(9 + c('wet_mass'))/10))[i,0])\n",
    "optimal_engine(df.filter(c('provider').str.contains('Squad')), 1, 9, 'size3', True, 1.5)"
   ]
  },
  {
   "cell_type": "code",
   "execution_count": 15,
   "metadata": {},
   "outputs": [
    {
     "data": {
      "text/html": [
       "<div><style>\n",
       ".dataframe > thead > tr,\n",
       ".dataframe > tbody > tr {\n",
       "  text-align: right;\n",
       "  white-space: pre-wrap;\n",
       "}\n",
       "</style>\n",
       "<small>shape: (48, 87)</small><table border=\"1\" class=\"dataframe\"><thead><tr><th>title</th><th>dry_mass</th><th>cost</th><th>crashTolerance</th><th>maxTemp</th><th>techLevel</th><th>manufacturer</th><th>description</th><th>author</th><th>module</th><th>rescaleFactor</th><th>minThrust</th><th>maxThrust</th><th>entryCost</th><th>attachRules</th><th>heatConductivity</th><th>skinInternalConductionMult</th><th>emissiveConstant</th><th>dragModelType</th><th>maximumDrag</th><th>minimumDrag</th><th>angularDrag</th><th>diameter</th><th>gimbalTransformName</th><th>gimbalRange</th><th>gimbalResponseSpeed</th><th>useGimbalResponseSpeed</th><th>jettisonName</th><th>bottomNodeName</th><th>isFairing</th><th>jettisonedObjectMass</th><th>jettisonForce</th><th>jettisonDirection</th><th>packedVolume</th><th>alternatorRate</th><th>experimentID</th><th>experimentActionName</th><th>&hellip;</th><th>thrustVectorTransformName</th><th>heatProduction</th><th>exhaustDamageDistanceOffset</th><th>maxLiquidFuel</th><th>maxOxidizer</th><th>maxOre</th><th>maxElectricCharge</th><th>maxIntakeAir</th><th>maxMonoPropellant</th><th>defaultLiquidFuel</th><th>defaultOxidizer</th><th>defaultOre</th><th>defaultElectricCharge</th><th>defaultIntakeAir</th><th>defaultMonoPropellant</th><th>propellants</th><th>node_stack_top</th><th>node_stack_bottom</th><th>ISP_atm</th><th>ISP_vac</th><th>tags</th><th>model_path</th><th>category</th><th>subcategory</th><th>path</th><th>name</th><th>TWR_dry</th><th>est_height</th><th>wet_mass</th><th>TWR_wet</th><th>ISP_vac_WR_dry</th><th>ISP_vac_WR_wet</th><th>ISP_atm_WR_dry</th><th>ISP_atm_WR_wet</th><th>icon_path</th><th>icon_url</th><th>provider</th></tr><tr><td>str</td><td>f64</td><td>f64</td><td>f64</td><td>i64</td><td>str</td><td>str</td><td>str</td><td>str</td><td>str</td><td>f64</td><td>f64</td><td>f64</td><td>i64</td><td>list[i64]</td><td>f64</td><td>f64</td><td>f64</td><td>str</td><td>f64</td><td>f64</td><td>f64</td><td>list[str]</td><td>str</td><td>f64</td><td>f64</td><td>bool</td><td>str</td><td>str</td><td>bool</td><td>f64</td><td>f64</td><td>list[i64]</td><td>i64</td><td>f64</td><td>str</td><td>str</td><td>&hellip;</td><td>str</td><td>f64</td><td>f64</td><td>f64</td><td>f64</td><td>f64</td><td>f64</td><td>f64</td><td>f64</td><td>f64</td><td>f64</td><td>f64</td><td>f64</td><td>f64</td><td>f64</td><td>list[str]</td><td>list[f64]</td><td>list[f64]</td><td>f64</td><td>f64</td><td>str</td><td>str</td><td>str</td><td>str</td><td>str</td><td>str</td><td>f64</td><td>f64</td><td>f64</td><td>f64</td><td>f64</td><td>f64</td><td>f64</td><td>f64</td><td>str</td><td>str</td><td>str</td></tr></thead><tbody><tr><td>&quot;M-Beam 200 I-B…</td><td>0.1875</td><td>14.0</td><td>80.0</td><td>2000</td><td>&quot;composites&quot;</td><td>&quot;Dinkelstein Ke…</td><td>&quot;Handcrafted by…</td><td>&quot;NovaSilisko&quot;</td><td>&quot;Part&quot;</td><td>1.0</td><td>null</td><td>null</td><td>6200</td><td>[1, 1, … 1]</td><td>null</td><td>null</td><td>null</td><td>&quot;default&quot;</td><td>0.2</td><td>0.2</td><td>1.0</td><td>[&quot;size0&quot;, &quot;srf&quot;]</td><td>null</td><td>null</td><td>null</td><td>null</td><td>null</td><td>null</td><td>null</td><td>null</td><td>null</td><td>null</td><td>null</td><td>null</td><td>null</td><td>null</td><td>&hellip;</td><td>null</td><td>null</td><td>null</td><td>null</td><td>null</td><td>null</td><td>null</td><td>null</td><td>null</td><td>null</td><td>null</td><td>null</td><td>null</td><td>null</td><td>null</td><td>null</td><td>[0.0, 0.8024656, … 0.0]</td><td>[0.0, -0.802466, … 0.0]</td><td>null</td><td>null</td><td>&quot;beam build con…</td><td>null</td><td>&quot;Structural&quot;</td><td>&quot;0&quot;</td><td>&quot;/home/zeke/Sof…</td><td>&quot;structuralIBea…</td><td>null</td><td>1.6049312</td><td>0.1875</td><td>null</td><td>null</td><td>null</td><td>null</td><td>null</td><td>&quot;/home/zeke/Sof…</td><td>&quot;http://0.0.0.0…</td><td>&quot;Squad&quot;</td></tr><tr><td>&quot;HG-5 High Gain…</td><td>0.07</td><td>600.0</td><td>8.0</td><td>2000</td><td>&quot;basicScience&quot;</td><td>&quot;Ionic Symphoni…</td><td>&quot;A short range …</td><td>&quot;Squad&quot;</td><td>&quot;Part&quot;</td><td>1.0</td><td>null</td><td>null</td><td>1500</td><td>[1, 1, … 0]</td><td>null</td><td>null</td><td>null</td><td>&quot;default&quot;</td><td>0.2</td><td>0.2</td><td>1.0</td><td>[&quot;srf&quot;]</td><td>null</td><td>null</td><td>null</td><td>null</td><td>null</td><td>null</td><td>null</td><td>null</td><td>null</td><td>null</td><td>60</td><td>null</td><td>null</td><td>null</td><td>&hellip;</td><td>null</td><td>null</td><td>null</td><td>null</td><td>null</td><td>null</td><td>null</td><td>null</td><td>null</td><td>null</td><td>null</td><td>null</td><td>null</td><td>null</td><td>null</td><td>null</td><td>null</td><td>[0.0, 0.0, … 0.0]</td><td>null</td><td>null</td><td>null</td><td>&quot;Squad/Parts/Ut…</td><td>&quot;Communication&quot;</td><td>&quot;0&quot;</td><td>&quot;/home/zeke/Sof…</td><td>&quot;HighGainAntenn…</td><td>null</td><td>null</td><td>0.07</td><td>null</td><td>null</td><td>null</td><td>null</td><td>null</td><td>&quot;/home/zeke/Sof…</td><td>&quot;http://0.0.0.0…</td><td>&quot;Squad&quot;</td></tr><tr><td>&quot;Inflatable Air…</td><td>0.1</td><td>400.0</td><td>10.0</td><td>2600</td><td>&quot;advMetalworks&quot;</td><td>&quot;Jebediah Kerma…</td><td>&quot;When trying to…</td><td>&quot;RoverDude&quot;</td><td>&quot;Part&quot;</td><td>1.0</td><td>null</td><td>null</td><td>8400</td><td>[1, 1, … 0]</td><td>null</td><td>null</td><td>0.8</td><td>&quot;default&quot;</td><td>0.25</td><td>0.25</td><td>0.5</td><td>[&quot;size0&quot;]</td><td>null</td><td>null</td><td>null</td><td>null</td><td>null</td><td>null</td><td>null</td><td>null</td><td>null</td><td>null</td><td>520</td><td>null</td><td>null</td><td>null</td><td>&hellip;</td><td>null</td><td>null</td><td>null</td><td>null</td><td>null</td><td>null</td><td>null</td><td>null</td><td>null</td><td>null</td><td>null</td><td>null</td><td>null</td><td>null</td><td>null</td><td>null</td><td>null</td><td>[0.0, 0.0, … 1.0]</td><td>null</td><td>null</td><td>&quot;connect join d…</td><td>&quot;SquadExpansion…</td><td>&quot;Coupling&quot;</td><td>&quot;0&quot;</td><td>&quot;/home/zeke/Sof…</td><td>&quot;InflatableAirl…</td><td>null</td><td>null</td><td>0.1</td><td>null</td><td>null</td><td>null</td><td>null</td><td>null</td><td>&quot;/home/zeke/Sof…</td><td>&quot;http://0.0.0.0…</td><td>&quot;SquadExpansion…</td></tr><tr><td>&quot;Probodobodyne …</td><td>0.07</td><td>360.0</td><td>15.0</td><td>1200</td><td>&quot;unmannedTech&quot;</td><td>&quot;Probodobodyne …</td><td>&quot;QBE is Probodo…</td><td>&quot;AlexanderM&quot;</td><td>&quot;Part&quot;</td><td>1.0</td><td>null</td><td>null</td><td>3800</td><td>[1, 0, … 0]</td><td>null</td><td>null</td><td>null</td><td>&quot;default&quot;</td><td>0.2</td><td>0.15</td><td>1.5</td><td>[&quot;size0&quot;]</td><td>null</td><td>null</td><td>null</td><td>null</td><td>null</td><td>null</td><td>null</td><td>null</td><td>null</td><td>null</td><td>140</td><td>null</td><td>null</td><td>null</td><td>&hellip;</td><td>null</td><td>null</td><td>null</td><td>null</td><td>null</td><td>null</td><td>null</td><td>null</td><td>null</td><td>null</td><td>null</td><td>null</td><td>null</td><td>null</td><td>null</td><td>null</td><td>[0.0, 0.2845967, … 0.0]</td><td>[0.0, -0.284597, … 0.0]</td><td>null</td><td>null</td><td>&quot;command contro…</td><td>null</td><td>&quot;Pods&quot;</td><td>&quot;0&quot;</td><td>&quot;/home/zeke/Sof…</td><td>&quot;probeCoreCube&quot;</td><td>null</td><td>0.5691934</td><td>0.07</td><td>null</td><td>null</td><td>null</td><td>null</td><td>null</td><td>&quot;/home/zeke/Sof…</td><td>&quot;http://0.0.0.0…</td><td>&quot;Squad&quot;</td></tr><tr><td>&quot;RA-2 Relay Ant…</td><td>0.15</td><td>1800.0</td><td>8.0</td><td>2000</td><td>&quot;precisionEngin…</td><td>&quot;Ionic Symphoni…</td><td>&quot;A relay antenn…</td><td>&quot;Squad&quot;</td><td>&quot;Part&quot;</td><td>1.0</td><td>null</td><td>null</td><td>5000</td><td>[1, 1, … 0]</td><td>null</td><td>null</td><td>null</td><td>&quot;default&quot;</td><td>0.2</td><td>0.2</td><td>1.0</td><td>[&quot;size0&quot;]</td><td>null</td><td>null</td><td>null</td><td>null</td><td>null</td><td>null</td><td>null</td><td>null</td><td>null</td><td>null</td><td>600</td><td>null</td><td>null</td><td>null</td><td>&hellip;</td><td>null</td><td>null</td><td>null</td><td>null</td><td>null</td><td>null</td><td>null</td><td>null</td><td>null</td><td>null</td><td>null</td><td>null</td><td>null</td><td>null</td><td>null</td><td>null</td><td>null</td><td>[0.0, 0.0, … 0.0]</td><td>null</td><td>null</td><td>null</td><td>&quot;Squad/Parts/Ut…</td><td>&quot;Communication&quot;</td><td>&quot;0&quot;</td><td>&quot;/home/zeke/Sof…</td><td>&quot;RelayAntenna5&quot;</td><td>null</td><td>null</td><td>0.15</td><td>null</td><td>null</td><td>null</td><td>null</td><td>null</td><td>&quot;/home/zeke/Sof…</td><td>&quot;http://0.0.0.0…</td><td>&quot;Squad&quot;</td></tr><tr><td>&hellip;</td><td>&hellip;</td><td>&hellip;</td><td>&hellip;</td><td>&hellip;</td><td>&hellip;</td><td>&hellip;</td><td>&hellip;</td><td>&hellip;</td><td>&hellip;</td><td>&hellip;</td><td>&hellip;</td><td>&hellip;</td><td>&hellip;</td><td>&hellip;</td><td>&hellip;</td><td>&hellip;</td><td>&hellip;</td><td>&hellip;</td><td>&hellip;</td><td>&hellip;</td><td>&hellip;</td><td>&hellip;</td><td>&hellip;</td><td>&hellip;</td><td>&hellip;</td><td>&hellip;</td><td>&hellip;</td><td>&hellip;</td><td>&hellip;</td><td>&hellip;</td><td>&hellip;</td><td>&hellip;</td><td>&hellip;</td><td>&hellip;</td><td>&hellip;</td><td>&hellip;</td><td>&hellip;</td><td>&hellip;</td><td>&hellip;</td><td>&hellip;</td><td>&hellip;</td><td>&hellip;</td><td>&hellip;</td><td>&hellip;</td><td>&hellip;</td><td>&hellip;</td><td>&hellip;</td><td>&hellip;</td><td>&hellip;</td><td>&hellip;</td><td>&hellip;</td><td>&hellip;</td><td>&hellip;</td><td>&hellip;</td><td>&hellip;</td><td>&hellip;</td><td>&hellip;</td><td>&hellip;</td><td>&hellip;</td><td>&hellip;</td><td>&hellip;</td><td>&hellip;</td><td>&hellip;</td><td>&hellip;</td><td>&hellip;</td><td>&hellip;</td><td>&hellip;</td><td>&hellip;</td><td>&hellip;</td><td>&hellip;</td><td>&hellip;</td><td>&hellip;</td><td>&hellip;</td><td>&hellip;</td></tr><tr><td>&quot;FTE-1 Drain Va…</td><td>0.01</td><td>50.0</td><td>12.0</td><td>2000</td><td>&quot;fuelSystems&quot;</td><td>&quot;FLOOYD Dynamic…</td><td>&quot;While trying t…</td><td>&quot;Squad&quot;</td><td>&quot;Part&quot;</td><td>1.0</td><td>null</td><td>null</td><td>2500</td><td>[0, 1, … 0]</td><td>null</td><td>null</td><td>null</td><td>&quot;default&quot;</td><td>0.2</td><td>0.2</td><td>1.0</td><td>[&quot;srf&quot;]</td><td>null</td><td>null</td><td>null</td><td>null</td><td>null</td><td>null</td><td>null</td><td>null</td><td>null</td><td>null</td><td>2</td><td>null</td><td>null</td><td>null</td><td>&hellip;</td><td>null</td><td>null</td><td>null</td><td>null</td><td>null</td><td>null</td><td>null</td><td>null</td><td>null</td><td>null</td><td>null</td><td>null</td><td>null</td><td>null</td><td>null</td><td>null</td><td>null</td><td>null</td><td>null</td><td>null</td><td>&quot;lose remove lf…</td><td>null</td><td>&quot;FuelTank&quot;</td><td>&quot;0&quot;</td><td>&quot;/home/zeke/Sof…</td><td>&quot;ReleaseValve&quot;</td><td>null</td><td>null</td><td>0.01</td><td>null</td><td>null</td><td>null</td><td>null</td><td>null</td><td>&quot;/home/zeke/Sof…</td><td>&quot;http://0.0.0.0…</td><td>&quot;Squad&quot;</td></tr><tr><td>&quot;Probodobodyne …</td><td>0.1</td><td>650.0</td><td>12.0</td><td>1200</td><td>&quot;precisionEngin…</td><td>&quot;Probodobodyne …</td><td>&quot;The HECS core …</td><td>&quot;Squad&quot;</td><td>&quot;Part&quot;</td><td>1.0</td><td>null</td><td>null</td><td>4900</td><td>[1, 0, … 0]</td><td>null</td><td>null</td><td>null</td><td>&quot;default&quot;</td><td>0.2</td><td>0.15</td><td>1.5</td><td>[&quot;size0&quot;]</td><td>null</td><td>null</td><td>null</td><td>null</td><td>null</td><td>null</td><td>null</td><td>null</td><td>null</td><td>null</td><td>200</td><td>null</td><td>null</td><td>null</td><td>&hellip;</td><td>null</td><td>null</td><td>null</td><td>null</td><td>null</td><td>null</td><td>null</td><td>null</td><td>null</td><td>null</td><td>null</td><td>null</td><td>null</td><td>null</td><td>null</td><td>null</td><td>[0.0, 0.1875, … 0.0]</td><td>[0.0, -0.1875, … 0.0]</td><td>null</td><td>null</td><td>&quot;cmg command co…</td><td>null</td><td>&quot;Pods&quot;</td><td>&quot;0&quot;</td><td>&quot;/home/zeke/Sof…</td><td>&quot;probeCoreHex_v…</td><td>null</td><td>0.375</td><td>0.1</td><td>null</td><td>null</td><td>null</td><td>null</td><td>null</td><td>&quot;/home/zeke/Sof…</td><td>&quot;http://0.0.0.0…</td><td>&quot;Squad&quot;</td></tr><tr><td>&quot;LT-05 Micro La…</td><td>0.015</td><td>200.0</td><td>10.0</td><td>1200</td><td>&quot;survivability&quot;</td><td>&quot;Moving Parts E…</td><td>&quot;A small landin…</td><td>&quot;NovaSilisko&quot;</td><td>&quot;Part&quot;</td><td>1.0</td><td>null</td><td>null</td><td>820</td><td>[0, 1, … 0]</td><td>null</td><td>null</td><td>0.8</td><td>&quot;default&quot;</td><td>0.2</td><td>0.2</td><td>2.0</td><td>[&quot;srf&quot;]</td><td>null</td><td>null</td><td>null</td><td>null</td><td>null</td><td>null</td><td>null</td><td>null</td><td>null</td><td>null</td><td>80</td><td>null</td><td>null</td><td>null</td><td>&hellip;</td><td>null</td><td>null</td><td>null</td><td>null</td><td>null</td><td>null</td><td>null</td><td>null</td><td>null</td><td>null</td><td>null</td><td>null</td><td>null</td><td>null</td><td>null</td><td>null</td><td>null</td><td>null</td><td>null</td><td>null</td><td>&quot;ground land le…</td><td>null</td><td>&quot;Ground&quot;</td><td>&quot;0&quot;</td><td>&quot;/home/zeke/Sof…</td><td>&quot;miniLandingLeg…</td><td>null</td><td>null</td><td>0.015</td><td>null</td><td>null</td><td>null</td><td>null</td><td>null</td><td>&quot;/home/zeke/Sof…</td><td>&quot;http://0.0.0.0…</td><td>&quot;Squad&quot;</td></tr><tr><td>&quot;Probodobodyne …</td><td>0.04</td><td>1480.0</td><td>12.0</td><td>1200</td><td>&quot;unmannedTech&quot;</td><td>&quot;Probodobodyne …</td><td>&quot;The OKTO2 is f…</td><td>&quot;Pablo&quot;</td><td>&quot;Part&quot;</td><td>1.0</td><td>null</td><td>null</td><td>7500</td><td>[1, 0, … 0]</td><td>null</td><td>null</td><td>null</td><td>&quot;default&quot;</td><td>0.2</td><td>0.15</td><td>1.5</td><td>[&quot;size0&quot;]</td><td>null</td><td>null</td><td>null</td><td>null</td><td>null</td><td>null</td><td>null</td><td>null</td><td>null</td><td>null</td><td>50</td><td>null</td><td>null</td><td>null</td><td>&hellip;</td><td>null</td><td>null</td><td>null</td><td>null</td><td>null</td><td>null</td><td>null</td><td>null</td><td>null</td><td>null</td><td>null</td><td>null</td><td>null</td><td>null</td><td>null</td><td>null</td><td>[0.0, 0.0610621, … 0.0]</td><td>[0.0, -0.061062, … 0.0]</td><td>null</td><td>null</td><td>&quot;command contro…</td><td>&quot;Squad/Parts/Co…</td><td>&quot;Pods&quot;</td><td>&quot;0&quot;</td><td>&quot;/home/zeke/Sof…</td><td>&quot;probeCoreOcto2…</td><td>null</td><td>0.1221242</td><td>0.04</td><td>null</td><td>null</td><td>null</td><td>null</td><td>null</td><td>&quot;/home/zeke/Sof…</td><td>&quot;http://0.0.0.0…</td><td>&quot;Squad&quot;</td></tr><tr><td>&quot;FTE-1 Drain Va…</td><td>0.01</td><td>50.0</td><td>12.0</td><td>2000</td><td>&quot;fuelSystems&quot;</td><td>&quot;FLOOYD Dynamic…</td><td>&quot;While trying t…</td><td>&quot;Squad&quot;</td><td>&quot;Part&quot;</td><td>1.0</td><td>null</td><td>null</td><td>2500</td><td>[0, 1, … 0]</td><td>null</td><td>null</td><td>null</td><td>&quot;default&quot;</td><td>0.2</td><td>0.2</td><td>1.0</td><td>[&quot;srf&quot;]</td><td>null</td><td>null</td><td>null</td><td>null</td><td>null</td><td>null</td><td>null</td><td>null</td><td>null</td><td>null</td><td>2</td><td>null</td><td>null</td><td>null</td><td>&hellip;</td><td>null</td><td>null</td><td>null</td><td>null</td><td>null</td><td>null</td><td>null</td><td>null</td><td>null</td><td>null</td><td>null</td><td>null</td><td>null</td><td>null</td><td>null</td><td>null</td><td>null</td><td>null</td><td>null</td><td>null</td><td>&quot;lose remove lf…</td><td>null</td><td>&quot;FuelTank&quot;</td><td>&quot;0&quot;</td><td>&quot;/home/zeke/Sof…</td><td>&quot;ReleaseValve&quot;</td><td>null</td><td>null</td><td>0.01</td><td>null</td><td>null</td><td>null</td><td>null</td><td>null</td><td>&quot;/home/zeke/Sof…</td><td>&quot;http://0.0.0.0…</td><td>&quot;Squad&quot;</td></tr></tbody></table></div>"
      ],
      "text/plain": [
       "shape: (48, 87)\n",
       "┌────────────┬──────────┬────────┬────────────┬───┬────────────┬───────────┬───────────┬───────────┐\n",
       "│ title      ┆ dry_mass ┆ cost   ┆ crashToler ┆ … ┆ ISP_atm_WR ┆ icon_path ┆ icon_url  ┆ provider  │\n",
       "│ ---        ┆ ---      ┆ ---    ┆ ance       ┆   ┆ _wet       ┆ ---       ┆ ---       ┆ ---       │\n",
       "│ str        ┆ f64      ┆ f64    ┆ ---        ┆   ┆ ---        ┆ str       ┆ str       ┆ str       │\n",
       "│            ┆          ┆        ┆ f64        ┆   ┆ f64        ┆           ┆           ┆           │\n",
       "╞════════════╪══════════╪════════╪════════════╪═══╪════════════╪═══════════╪═══════════╪═══════════╡\n",
       "│ M-Beam 200 ┆ 0.1875   ┆ 14.0   ┆ 80.0       ┆ … ┆ null       ┆ /home/zek ┆ http://0. ┆ Squad     │\n",
       "│ I-Beam     ┆          ┆        ┆            ┆   ┆            ┆ e/Softwar ┆ 0.0.0:800 ┆           │\n",
       "│ Pocket     ┆          ┆        ┆            ┆   ┆            ┆ e/KSP_lin ┆ 0/Squad/P ┆           │\n",
       "│ Edition    ┆          ┆        ┆            ┆   ┆            ┆ ux/Ga…    ┆ arts/…    ┆           │\n",
       "│ HG-5 High  ┆ 0.07     ┆ 600.0  ┆ 8.0        ┆ … ┆ null       ┆ /home/zek ┆ http://0. ┆ Squad     │\n",
       "│ Gain       ┆          ┆        ┆            ┆   ┆            ┆ e/Softwar ┆ 0.0.0:800 ┆           │\n",
       "│ Antenna    ┆          ┆        ┆            ┆   ┆            ┆ e/KSP_lin ┆ 0/Squad/P ┆           │\n",
       "│            ┆          ┆        ┆            ┆   ┆            ┆ ux/Ga…    ┆ arts/…    ┆           │\n",
       "│ Inflatable ┆ 0.1      ┆ 400.0  ┆ 10.0       ┆ … ┆ null       ┆ /home/zek ┆ http://0. ┆ SquadExpa │\n",
       "│ Airlock    ┆          ┆        ┆            ┆   ┆            ┆ e/Softwar ┆ 0.0.0:800 ┆ nsion     │\n",
       "│            ┆          ┆        ┆            ┆   ┆            ┆ e/KSP_lin ┆ 0/SquadEx ┆           │\n",
       "│            ┆          ┆        ┆            ┆   ┆            ┆ ux/Ga…    ┆ pansi…    ┆           │\n",
       "│ Probodobod ┆ 0.07     ┆ 360.0  ┆ 15.0       ┆ … ┆ null       ┆ /home/zek ┆ http://0. ┆ Squad     │\n",
       "│ yne QBE    ┆          ┆        ┆            ┆   ┆            ┆ e/Softwar ┆ 0.0.0:800 ┆           │\n",
       "│            ┆          ┆        ┆            ┆   ┆            ┆ e/KSP_lin ┆ 0/Squad/P ┆           │\n",
       "│            ┆          ┆        ┆            ┆   ┆            ┆ ux/Ga…    ┆ arts/…    ┆           │\n",
       "│ RA-2 Relay ┆ 0.15     ┆ 1800.0 ┆ 8.0        ┆ … ┆ null       ┆ /home/zek ┆ http://0. ┆ Squad     │\n",
       "│ Antenna    ┆          ┆        ┆            ┆   ┆            ┆ e/Softwar ┆ 0.0.0:800 ┆           │\n",
       "│            ┆          ┆        ┆            ┆   ┆            ┆ e/KSP_lin ┆ 0/Squad/P ┆           │\n",
       "│            ┆          ┆        ┆            ┆   ┆            ┆ ux/Ga…    ┆ arts/…    ┆           │\n",
       "│ …          ┆ …        ┆ …      ┆ …          ┆ … ┆ …          ┆ …         ┆ …         ┆ …         │\n",
       "│ FTE-1      ┆ 0.01     ┆ 50.0   ┆ 12.0       ┆ … ┆ null       ┆ /home/zek ┆ http://0. ┆ Squad     │\n",
       "│ Drain      ┆          ┆        ┆            ┆   ┆            ┆ e/Softwar ┆ 0.0.0:800 ┆           │\n",
       "│ Valve      ┆          ┆        ┆            ┆   ┆            ┆ e/KSP_lin ┆ 0/Squad/P ┆           │\n",
       "│            ┆          ┆        ┆            ┆   ┆            ┆ ux/Ga…    ┆ arts/…    ┆           │\n",
       "│ Probodobod ┆ 0.1      ┆ 650.0  ┆ 12.0       ┆ … ┆ null       ┆ /home/zek ┆ http://0. ┆ Squad     │\n",
       "│ yne HECS   ┆          ┆        ┆            ┆   ┆            ┆ e/Softwar ┆ 0.0.0:800 ┆           │\n",
       "│            ┆          ┆        ┆            ┆   ┆            ┆ e/KSP_lin ┆ 0/Squad/P ┆           │\n",
       "│            ┆          ┆        ┆            ┆   ┆            ┆ ux/Ga…    ┆ arts/…    ┆           │\n",
       "│ LT-05      ┆ 0.015    ┆ 200.0  ┆ 10.0       ┆ … ┆ null       ┆ /home/zek ┆ http://0. ┆ Squad     │\n",
       "│ Micro      ┆          ┆        ┆            ┆   ┆            ┆ e/Softwar ┆ 0.0.0:800 ┆           │\n",
       "│ Landing    ┆          ┆        ┆            ┆   ┆            ┆ e/KSP_lin ┆ 0/Squad/P ┆           │\n",
       "│ Strut      ┆          ┆        ┆            ┆   ┆            ┆ ux/Ga…    ┆ arts/…    ┆           │\n",
       "│ Probodobod ┆ 0.04     ┆ 1480.0 ┆ 12.0       ┆ … ┆ null       ┆ /home/zek ┆ http://0. ┆ Squad     │\n",
       "│ yne OKTO2  ┆          ┆        ┆            ┆   ┆            ┆ e/Softwar ┆ 0.0.0:800 ┆           │\n",
       "│            ┆          ┆        ┆            ┆   ┆            ┆ e/KSP_lin ┆ 0/Squad/P ┆           │\n",
       "│            ┆          ┆        ┆            ┆   ┆            ┆ ux/Ga…    ┆ arts/…    ┆           │\n",
       "│ FTE-1      ┆ 0.01     ┆ 50.0   ┆ 12.0       ┆ … ┆ null       ┆ /home/zek ┆ http://0. ┆ Squad     │\n",
       "│ Drain      ┆          ┆        ┆            ┆   ┆            ┆ e/Softwar ┆ 0.0.0:800 ┆           │\n",
       "│ Valve      ┆          ┆        ┆            ┆   ┆            ┆ e/KSP_lin ┆ 0/Squad/P ┆           │\n",
       "│            ┆          ┆        ┆            ┆   ┆            ┆ ux/Ga…    ┆ arts/…    ┆           │\n",
       "└────────────┴──────────┴────────┴────────────┴───┴────────────┴───────────┴───────────┴───────────┘"
      ]
     },
     "execution_count": 15,
     "metadata": {},
     "output_type": "execute_result"
    }
   ],
   "source": [
    "# len(df)\n",
    "len(df) - len(df['name'].unique())\n",
    "a = df.filter(df['name'].is_duplicated())\n",
    "a"
   ]
  },
  {
   "cell_type": "code",
   "execution_count": 16,
   "metadata": {},
   "outputs": [
    {
     "data": {
      "text/html": [
       "<div><style>\n",
       ".dataframe > thead > tr,\n",
       ".dataframe > tbody > tr {\n",
       "  text-align: right;\n",
       "  white-space: pre-wrap;\n",
       "}\n",
       "</style>\n",
       "<small>shape: (180,)</small><table border=\"1\" class=\"dataframe\"><thead><tr><th>diameter</th></tr><tr><td>list[str]</td></tr></thead><tbody><tr><td>[&quot;size1&quot;]</td></tr><tr><td>[&quot;size1&quot;]</td></tr><tr><td>[&quot;size1&quot;, &quot;srf&quot;]</td></tr><tr><td>[&quot;size1&quot;]</td></tr><tr><td>[&quot;size1&quot;, &quot;srf&quot;]</td></tr><tr><td>&hellip;</td></tr><tr><td>[&quot;size1&quot;, &quot;size0&quot;]</td></tr><tr><td>[&quot;size1&quot;, &quot;srf&quot;]</td></tr><tr><td>[&quot;size2&quot;, &quot;size1p5&quot;, … &quot;srf&quot;]</td></tr><tr><td>[&quot;size1&quot;, &quot;srf&quot;]</td></tr><tr><td>[&quot;size0&quot;, &quot;size1&quot;]</td></tr></tbody></table></div>"
      ],
      "text/plain": [
       "shape: (180,)\n",
       "Series: 'diameter' [list[str]]\n",
       "[\n",
       "\t[\"size1\"]\n",
       "\t[\"size1\"]\n",
       "\t[\"size1\", \"srf\"]\n",
       "\t[\"size1\"]\n",
       "\t[\"size1\", \"srf\"]\n",
       "\t…\n",
       "\t[\"size1\", \"size0\"]\n",
       "\t[\"size1\", \"srf\"]\n",
       "\t[\"size2\", \"size1p5\", … \"srf\"]\n",
       "\t[\"size1\", \"srf\"]\n",
       "\t[\"size0\", \"size1\"]\n",
       "]"
      ]
     },
     "execution_count": 16,
     "metadata": {},
     "output_type": "execute_result"
    }
   ],
   "source": [
    "# df.filter(~c('propellants').is_null())['propellants']\n",
    "df.filter(c('diameter').list.contains('size1'))['diameter']"
   ]
  },
  {
   "cell_type": "code",
   "execution_count": 17,
   "metadata": {},
   "outputs": [
    {
     "data": {
      "text/plain": [
       "['Payload',\n",
       " 'Propulsion',\n",
       " 'Coupling',\n",
       " 'Science',\n",
       " 'Aero',\n",
       " 'Utility',\n",
       " '-1',\n",
       " 'Ground',\n",
       " 'Structural',\n",
       " 'Communication',\n",
       " 'Engine',\n",
       " 'FuelTank',\n",
       " 'Thermal',\n",
       " 'none',\n",
       " 'Cargo',\n",
       " 'Pods',\n",
       " 'Control',\n",
       " 'Electrical',\n",
       " 'Robotics']"
      ]
     },
     "execution_count": 17,
     "metadata": {},
     "output_type": "execute_result"
    }
   ],
   "source": [
    "df['category'].unique().to_list()"
   ]
  },
  {
   "cell_type": "code",
   "execution_count": 40,
   "metadata": {},
   "outputs": [],
   "source": [
    "from clipboard import copy\n",
    "# name = 'Kerbodyne S3-7200 Tank'\n",
    "name = 'fuelTankSmallFlat'\n",
    "copy(df.filter(c('name') == name)['title'][0])"
   ]
  },
  {
   "cell_type": "code",
   "execution_count": 103,
   "metadata": {},
   "outputs": [
    {
     "data": {
      "text/plain": [
       "15.700566097"
      ]
     },
     "execution_count": 103,
     "metadata": {},
     "output_type": "execute_result"
    }
   ],
   "source": [
    "16.013066097-0.3125"
   ]
  },
  {
   "cell_type": "code",
   "execution_count": null,
   "metadata": {},
   "outputs": [],
   "source": [
    "# Testing the parser\n",
    "# For testing removing requirements\n",
    "p = '/home/zeke/Software/KSP_linux/GameData/ExtraplanetaryLaunchpads/Parts/Auger/part.cfg'\n",
    "# TMP: I have *no idea* why this *one* part won't load properly\n",
    "# p = '/home/zeke/Software/KSP_linux/GameData/Squad/Parts/Engine/liquidEngineMainsail_v2/liquidEngineMainsail_v2.cfg'\n",
    "convert_list_to_dict(parse_cfg_file(p, True).as_list())"
   ]
  },
  {
   "cell_type": "code",
   "execution_count": 279,
   "metadata": {},
   "outputs": [
    {
     "data": {
      "text/plain": [
       "[]"
      ]
     },
     "execution_count": 279,
     "metadata": {},
     "output_type": "execute_result"
    }
   ],
   "source": [
    "# Testing JSONPaths\n",
    "# [m.value for m in parse('$[?(@.name==turboJet)].MODULE[?(@.name==ModuleEnginesFX)].atmosphereCurve.key').find(all_parts)]\n",
    "# part_name = 'batteryBankMini'\n",
    "part_name = 'liquidEngine3_v2'\n",
    "# path = 'MODULE[?(@.name==ModuleEnginesFX)].PROPELLANT..name'\n",
    "# path = '.MODULE[?(@.name==ModulePartVariants)]..VARIANT[0]..NODES.node_stack_bottom.`split(\", \", 1, -1)`'\n",
    "path = '.dstg'\n",
    "# path = 'node_stack_top.`split(1, 0, -1)`'\n",
    "# path = 'node_stack_top.`split(\", \", 1, -1)`'\n",
    "# path = 'RESOURCE'\n",
    "[m.value for m in parse(f'$[?(@.name=={part_name})]' + path).find(all_parts)]\n",
    "# parse('$[?(@.name==liquidEngine3_v2)].MODULE[?(@.name==ModuleEngines)].atmosphereCurve').find(all_parts)"
   ]
  },
  {
   "cell_type": "code",
   "execution_count": 97,
   "metadata": {},
   "outputs": [
    {
     "data": {
      "text/plain": [
       "[]"
      ]
     },
     "execution_count": 97,
     "metadata": {},
     "output_type": "execute_result"
    }
   ],
   "source": [
    "[\n",
    "    m.value for m in parse(\n",
    "        '$[?(@.name==liquidEngine3_v2)].atmosphereCurve'\n",
    "    ).find(all_parts)\n",
    "]"
   ]
  },
  {
   "cell_type": "code",
   "execution_count": 22,
   "metadata": {},
   "outputs": [],
   "source": [
    "parse(f'$[?(@.name=={part_name})].' + path)\n",
    "from jsonpath_ng.ext.string import Split\n"
   ]
  },
  {
   "cell_type": "markdown",
   "metadata": {},
   "source": [
    "- LiquidFuel: 0.005 Tons / unit\n",
    "- Oxidizer: 0.005 Tons / unit\n",
    "- Ore: 0.01 Tons / unit\n",
    "- MonoProp: 0.004 Tons / unit"
   ]
  }
 ],
 "metadata": {
  "kernelspec": {
   "display_name": "Python 3",
   "language": "python",
   "name": "python3"
  },
  "language_info": {
   "codemirror_mode": {
    "name": "ipython",
    "version": 3
   },
   "file_extension": ".py",
   "mimetype": "text/x-python",
   "name": "python",
   "nbconvert_exporter": "python",
   "pygments_lexer": "ipython3",
   "version": "3.11.6"
  }
 },
 "nbformat": 4,
 "nbformat_minor": 2
}
